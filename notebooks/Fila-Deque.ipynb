{
  "cells": [
    {
      "cell_type": "markdown",
      "metadata": {
        "id": "5LZAAs_ThZah"
      },
      "source": [
        "# Fila"
      ]
    },
    {
      "cell_type": "markdown",
      "metadata": {
        "id": "dbnA8HEKh_24"
      },
      "source": [
        "Neste primeiro tópico, iremos aprender um pouco sobre a estrutura de dados fila (do inglês <i>queue</i>).\n",
        "\n",
        "Para exemplificar, podemos assimilar seu conceito a uma ação muito comum do nosso cotidiano.\n",
        "\n",
        "Considere que você precisará de um atendimento presencial em um banco, no qual muitas vezes é necessário entrar em uma fila. Nessas filas, a primeira pessoa a chegar receberá prioridade máxima no atendimento, do mesmo modo que a última pessoa a chegar terá a menor prioridade.\n",
        "\n",
        "O TAD fila se comporta de forma similar. Logo, o primeiro elemento adicionado na fila será o primeiro a ser processado. Além disso, sempre que um novo elemento é adicionado, este será inserido no final da fila, e sempre que um elemento for removido, remove-se do início.\n",
        "\n",
        "> Esse princípio é conhecido como **FIFO** (do inglês <i>first-in first-out</i>)."
      ]
    },
    {
      "cell_type": "markdown",
      "metadata": {
        "id": "fXANuXEEm_9v"
      },
      "source": [
        "![alt text](https://www.cos.ufrj.br/~rfarias/cos121/operacoesFila1.png)"
      ]
    },
    {
      "cell_type": "markdown",
      "metadata": {
        "id": "ij8o_T_jniNk"
      },
      "source": [
        "Para fins de aplicação, podemos listar exemplos de fila em um sistema, como o controle de documentos para impressão ou a troca de mensagens entre computadores numa rede.\n",
        "\n",
        "É importante destacar que, no Python, esse TAD foi construído para ser usado principalmente em aplicações com programação paralela."
      ]
    },
    {
      "cell_type": "markdown",
      "metadata": {
        "id": "xYZVcNGZnmOI"
      },
      "source": [
        "> Programação paralela é utilizada para executar mais de uma instrução ao mesmo tempo. O seu principal benefício é a resposta em uma menor duração, já que os problemas são divididos em partes que serão resolvidas utilizando múltiplos núcleos de processamento.\n",
        "\n"
      ]
    },
    {
      "cell_type": "markdown",
      "metadata": {
        "id": "sXJfOiFBPUyu"
      },
      "source": [
        "No Python, podemos utilizar a classe `Queue` da biblioteca `queue` para a implementação de filas.\n"
      ]
    },
    {
      "cell_type": "code",
      "execution_count": null,
      "metadata": {
        "id": "mroJvUeaPdEn"
      },
      "outputs": [],
      "source": [
        "from queue import Queue\n",
        "fila = Queue(maxsize=5)"
      ]
    },
    {
      "cell_type": "markdown",
      "metadata": {
        "id": "-Hp7QitjP8p3"
      },
      "source": [
        "> `maxsize` é um inteiro que define a quantidade máxima de elementos que podem ser adicionados à fila. Se for menor ou igual a zero, a fila terá um tamanho ilimitado."
      ]
    },
    {
      "cell_type": "markdown",
      "metadata": {
        "id": "0lCkd90CRskA"
      },
      "source": [
        "Agora, se quisermos adicionar elementos à fila, utilizamos o método `put()`."
      ]
    },
    {
      "cell_type": "code",
      "execution_count": null,
      "metadata": {
        "id": "r2FousAARyKy"
      },
      "outputs": [],
      "source": [
        "fila.put(1)\n",
        "fila.put(2)\n",
        "fila.put(3)\n",
        "fila.put(4)\n",
        "fila.put(5)"
      ]
    },
    {
      "cell_type": "markdown",
      "metadata": {
        "id": "VIcEFxPFoQl0"
      },
      "source": [
        "O método <i>qsize()</i> retorna a quantidade de elementos que existem na fila.\n"
      ]
    },
    {
      "cell_type": "code",
      "execution_count": null,
      "metadata": {
        "id": "aJyUquQdoTyl"
      },
      "outputs": [],
      "source": [
        "print(fila.qsize())"
      ]
    },
    {
      "cell_type": "markdown",
      "metadata": {
        "id": "4JPUIwzDohSJ"
      },
      "source": [
        "Para verificar se a fila está cheia, utilizamos o método `full()`."
      ]
    },
    {
      "cell_type": "code",
      "execution_count": null,
      "metadata": {
        "id": "g48SI_PsopPT"
      },
      "outputs": [],
      "source": [
        "print(fila.full())"
      ]
    },
    {
      "cell_type": "markdown",
      "metadata": {
        "id": "JpoRs5GFox_w"
      },
      "source": [
        "Note que, como a fila já está cheia, se tentássemos adicionar um novo elemento à ela, deveria não adicioná-lo ou resultar em algum erro.\n",
        "\n",
        "Porém, como a `Queue` do Python é um TAD construído para ser usado principalmente em aplicações de programação paralela, o novo elemento irá para uma espécie de “fila de espera”.\n",
        "\n",
        "Isto significa que este terá que aguardar outro elemento já existente na fila ser processado e removido para que só então possa ser adicionado à fila.\n",
        "\n",
        "Contudo, se utilizarmos o parâmetro `block` do método `put()`, podemos controlar a entrada de dados na fila.\n",
        "\n",
        "Ao configurar `block` como `False`, o método `put()` irá tentar adicionar o elemento e, se a fila estiver cheia, irá resultar na exceção `Full`."
      ]
    },
    {
      "cell_type": "code",
      "execution_count": null,
      "metadata": {
        "id": "td9B9_MfoxnP"
      },
      "outputs": [],
      "source": [
        "fila.put(6, block=False)"
      ]
    },
    {
      "cell_type": "markdown",
      "metadata": {
        "id": "UC7rnUhtpE26"
      },
      "source": [
        "De maneira análoga a lógica anterior, podemos também utilizar o método `put_nowait()`, que é similar ao `put()` com o parâmetro `block` definido como `False`."
      ]
    },
    {
      "cell_type": "code",
      "execution_count": null,
      "metadata": {
        "id": "hobGf7SroshX"
      },
      "outputs": [],
      "source": [
        "fila.put_nowait(6)"
      ]
    },
    {
      "cell_type": "markdown",
      "metadata": {
        "id": "0inz0r2wpTyF"
      },
      "source": [
        "O método `get()` <b>retorna</b> e <b>remove</b> o primeiro elemento da fila, ou seja, aquele que foi adicionado antes de todos os outros."
      ]
    },
    {
      "cell_type": "code",
      "execution_count": null,
      "metadata": {
        "id": "wjL2U5KmpgOc"
      },
      "outputs": [],
      "source": [
        "while not fila.empty():\n",
        "    elemento = fila.get()\n",
        "    print(elemento)"
      ]
    },
    {
      "cell_type": "markdown",
      "metadata": {
        "id": "xiww3OP7pjjs"
      },
      "source": [
        "Para verificar se uma lista está vazia, utilizamos o método `empty()`."
      ]
    },
    {
      "cell_type": "code",
      "execution_count": null,
      "metadata": {
        "id": "kt6KM_3qpmxp"
      },
      "outputs": [],
      "source": [
        "print(fila.empty())"
      ]
    },
    {
      "cell_type": "markdown",
      "metadata": {
        "id": "Ur-hofH7wkDz"
      },
      "source": [
        "Da mesma forma que podemos tentar colocar um elemento em uma fila já cheia, o Python também permite tentar processar, ou seja, retornar e remover, um elemento de uma fila vazia.\n",
        "\n",
        "Análogamente ao método `put()`, se tentarmos processar um elemento de uma fila vazia através do método `get()`, este irá esperar entrar um novo elemento para poder, automaticamente, retorná-lo e removê-lo.\n",
        "\n",
        "Para resolver este problema, também utilizamos o parâmetro `block` ou o método `get_nowait()` e, se a fila estiver vazia, irá resultar na exceção `Empty`."
      ]
    },
    {
      "cell_type": "code",
      "execution_count": null,
      "metadata": {
        "id": "cO7pfgMpwwaP"
      },
      "outputs": [],
      "source": [
        "fila.get(block=False)"
      ]
    },
    {
      "cell_type": "code",
      "execution_count": null,
      "metadata": {
        "id": "nPLw9ndNwsv3"
      },
      "outputs": [],
      "source": [
        "fila.get_nowait()"
      ]
    },
    {
      "cell_type": "markdown",
      "metadata": {
        "id": "uLdVvQ3dpz6I"
      },
      "source": [
        "# Fila de prioridade"
      ]
    },
    {
      "cell_type": "markdown",
      "metadata": {
        "id": "5N0gyurYp8So"
      },
      "source": [
        "Para entender como funciona a fila de prioridade, podemos usar a mesma analogia descrita anteriormente: a de um atendimento presencial em um banco, no qual muitas vezes é necessário entrar em uma fila.\n",
        "\n",
        "Nessas filas, além de dar prioridade à primeira pessoa que chegar, também é dada prioridade para alguns tipos de pessoas, como, por exemplo, gestantes, idosos, portadores de necessidades especiais etc.\n",
        "\n",
        "O TAD fila de prioridade funciona da mesma forma, pois, se tentarmos adicionar um elemento que se caracteriza com uma certa prioridade, este será adicionado no início da fila, respeitando outros elementos prioritários que foram adicionados primeiro.\n",
        "\n",
        "Esta estrutura é uma implementação do tipo fila e <b>possui todos os mesmos métodos citados anteriormente</b>. Contudo, o que difere uma fila de prioridade de uma fila normal é apenas o fato de que, como o próprio nome já diz, a primeira segue um padrão de prioridade ao adicionarmos e retirarmos elementos da fila."
      ]
    },
    {
      "cell_type": "code",
      "execution_count": null,
      "metadata": {
        "id": "ujZCMSunqC6R"
      },
      "outputs": [],
      "source": [
        "from queue import PriorityQueue\n",
        "filaPrioritaria = PriorityQueue(maxsize=0);"
      ]
    },
    {
      "cell_type": "markdown",
      "metadata": {
        "id": "g9bgwzslqFuY"
      },
      "source": [
        "Quando adicionamos elementos à fila prioritária, ela irá organizar automaticamente estes elementos de forma crescente, diferente da fila normal.\n"
      ]
    },
    {
      "cell_type": "code",
      "execution_count": null,
      "metadata": {
        "id": "Rz8BlaW-qKas",
        "outputId": "d3f8cfda-3bb6-4c29-e0db-003bff914611"
      },
      "outputs": [
        {
          "name": "stdout",
          "output_type": "stream",
          "text": [
            "1\n",
            "2\n",
            "5\n",
            "7\n"
          ]
        }
      ],
      "source": [
        "#adicionando elementos\n",
        "filaPrioritaria.put(1)\n",
        "filaPrioritaria.put(5)\n",
        "filaPrioritaria.put(7)\n",
        "filaPrioritaria.put(2)\n",
        "\n",
        "#processando os elementos\n",
        "while not filaPrioritaria.empty():\n",
        "  elemento = filaPrioritaria.get()\n",
        "  print(elemento)"
      ]
    },
    {
      "cell_type": "markdown",
      "metadata": {
        "id": "SPMyYspLqUj-"
      },
      "source": [
        "# Deque"
      ]
    },
    {
      "cell_type": "markdown",
      "metadata": {
        "id": "veMmmGlVqWL0"
      },
      "source": [
        "Nesta última parte, iremos ver um TAD mais amplo que a fila, o *deque*.\n",
        "\n",
        "Vimos que em uma fila, a inserção de um item é feita no final e a sua retirada ocorre no início.\n",
        "\n",
        "Já o deque permite a inserção e a remoção em ambas as extremidades da estrutura. Por esse motivo, os deques também são conhecidos como <i>double-ended queue</i>, isto é, fila com duas saídas."
      ]
    },
    {
      "cell_type": "markdown",
      "metadata": {
        "id": "gxLuKdDkquVc"
      },
      "source": [
        "![alt text](https://www.cos.ufrj.br/~rfarias/cos121/filaCircular.png)"
      ]
    },
    {
      "cell_type": "markdown",
      "metadata": {
        "id": "u_b_eUPHqyes"
      },
      "source": [
        "No Python, utilizamos a implementação <i>deque</i> da classe <i>collections</i> para criar deques e podemos inicializá-los de várias maneiras."
      ]
    },
    {
      "cell_type": "code",
      "execution_count": null,
      "metadata": {
        "id": "Gkdc4ZoXq4XB"
      },
      "outputs": [],
      "source": [
        "from collections import deque\n",
        "dequeVazio = deque()\n",
        "dequeLetras = deque(\"jgkdp\")\n",
        "dequeNumeros = deque([11,67,3,32,50])\n",
        "dequeLimitado = deque([6,12,56], 5)"
      ]
    },
    {
      "cell_type": "markdown",
      "metadata": {
        "id": "vwJZ4ypxq8OR"
      },
      "source": [
        "Note que, para criar o `dequeLimitado`, definimos um segundo parâmetro. Nesse caso, o tamanho máximo do deque é cinco, ou seja, podemos adicionar até cinco itens ao deque.\n",
        "\n",
        "Quando não definimos este parâmetro ou definimos como `None`, o deque pode crescer ilimitadamente. O atributo `maxlen` define o tamanho máximo de um deque.\n"
      ]
    },
    {
      "cell_type": "code",
      "execution_count": null,
      "metadata": {
        "id": "NXrnbZxPrQsV"
      },
      "outputs": [],
      "source": [
        "print(dequeLimitado.maxlen)\n",
        "print(dequeLetras.maxlen)"
      ]
    },
    {
      "cell_type": "markdown",
      "metadata": {
        "id": "f9adyHUBrT1Y"
      },
      "source": [
        "Podemos visualizar ou iterar sobre os elementos de uma `deque`, mas esse não é o uso comum deste TAD:"
      ]
    },
    {
      "cell_type": "code",
      "execution_count": null,
      "metadata": {
        "id": "5phLjBdTx7mi",
        "outputId": "a9d37890-9bae-48f7-ff28-e94d9fd17fa6"
      },
      "outputs": [
        {
          "name": "stdout",
          "output_type": "stream",
          "text": [
            "deque(['j', 'g', 'k', 'd', 'p'])\n",
            "j\n",
            "g\n",
            "k\n",
            "d\n",
            "p\n"
          ]
        }
      ],
      "source": [
        "print(dequeLetras)\n",
        "for item in dequeLetras:\n",
        "    print(item)"
      ]
    },
    {
      "cell_type": "markdown",
      "metadata": {
        "id": "SViqqHe1rdzp"
      },
      "source": [
        "Podemos adicionar elementos ao deque tanto no início quanto no final dele. Para isso, usamos, respectivamente, os métodos `appendleft()` e `append()`.\n",
        "\n",
        "Além disso, quando um deque está cheio e adicionamos um item à ele, o elemento da ponta oposta a que estamos adicionando o novo item é removido do deque."
      ]
    },
    {
      "cell_type": "code",
      "execution_count": null,
      "metadata": {
        "id": "NqQUlnSzrbRj",
        "outputId": "fe422fcd-a430-43ca-fe7f-e2adee595900"
      },
      "outputs": [
        {
          "name": "stdout",
          "output_type": "stream",
          "text": [
            "deque([61, 0, 6, 12, 56], maxlen=5)\n"
          ]
        }
      ],
      "source": [
        "dequeLimitado.appendleft(0)\n",
        "dequeLimitado.append(42)\n",
        "dequeLimitado.appendleft(61)\n",
        "print(dequeLimitado)"
      ]
    },
    {
      "cell_type": "markdown",
      "metadata": {
        "id": "27GIoGlNrzd0"
      },
      "source": [
        "Os métodos `extend()` e `extendleft()` são usados para adicionar mais de um elemento à um deque de uma vez só."
      ]
    },
    {
      "cell_type": "code",
      "execution_count": null,
      "metadata": {
        "id": "_4NaTeHgye7L"
      },
      "outputs": [],
      "source": [
        "dequeVazio.extend([61,0,12])\n",
        "print(dequeVazio)"
      ]
    },
    {
      "cell_type": "code",
      "execution_count": null,
      "metadata": {
        "id": "mMqGdT2Lr75U"
      },
      "outputs": [],
      "source": [
        "dequeLetras.extendleft(\"oex\")\n",
        "print(dequeLetras)"
      ]
    },
    {
      "cell_type": "markdown",
      "metadata": {
        "id": "yl8oqNFJr_KW"
      },
      "source": [
        "Podemos remover elementos tanto do início quanto do final do deque com os métodos `popleft()` e `pop()`, respectivamente."
      ]
    },
    {
      "cell_type": "code",
      "execution_count": null,
      "metadata": {
        "id": "lUdhtwXssE2w"
      },
      "outputs": [],
      "source": [
        "dequeLetras.popleft()\n",
        "dequeLetras.pop()\n",
        "list(dequeLetras)"
      ]
    },
    {
      "cell_type": "markdown",
      "metadata": {
        "id": "A5XD_MlfsaTF"
      },
      "source": [
        "Usando o método `clear()`, podemos apagar todos os elementos existentes no deque."
      ]
    },
    {
      "cell_type": "code",
      "execution_count": null,
      "metadata": {
        "id": "AcDNi2ROse7U"
      },
      "outputs": [],
      "source": [
        "dequeVazio.clear()\n",
        "print(dequeVazio)"
      ]
    },
    {
      "cell_type": "markdown",
      "metadata": {
        "id": "mBN6EbBSrogM"
      },
      "source": [
        "Também podemos fazer operações de listas ordenadas manualmente sobre `deques`, como `insert()`, `remove()` e `index()`, mas isto quebra o propósito de uso da `deque`."
      ]
    },
    {
      "cell_type": "code",
      "execution_count": null,
      "metadata": {
        "id": "y3vk5ilirstG",
        "outputId": "b1ea7a03-d9ba-40e5-872a-1a7f2f2aa655"
      },
      "outputs": [
        {
          "name": "stdout",
          "output_type": "stream",
          "text": [
            "deque([11, 67, 3, 77, 32, 50])\n"
          ]
        }
      ],
      "source": [
        "dequeNumeros.insert(3,77)\n",
        "print(dequeNumeros)"
      ]
    },
    {
      "cell_type": "code",
      "execution_count": null,
      "metadata": {
        "id": "yaydwmtBsXJC"
      },
      "outputs": [],
      "source": [
        "dequeLimitado.remove(0)\n",
        "print(dequeLimitado)"
      ]
    },
    {
      "cell_type": "code",
      "execution_count": null,
      "metadata": {
        "id": "PwfeYfTRr0g7"
      },
      "outputs": [],
      "source": [
        "print(dequeNumeros.index(77))"
      ]
    },
    {
      "cell_type": "markdown",
      "metadata": {
        "id": "W7uOgct3shvQ"
      },
      "source": [
        "## Alguns outros métodos"
      ]
    },
    {
      "cell_type": "markdown",
      "metadata": {
        "id": "xgJgkf8wsoIS"
      },
      "source": [
        "<b><i>copy()</i></b>: Cria uma cópia temporária do deque.\n",
        "\n"
      ]
    },
    {
      "cell_type": "code",
      "execution_count": null,
      "metadata": {
        "id": "7jBL5GSlsyZV"
      },
      "outputs": [],
      "source": [
        "deque = dequeNumeros.copy()\n",
        "list(deque)"
      ]
    },
    {
      "cell_type": "markdown",
      "metadata": {
        "id": "o-3-9XF1s1n5"
      },
      "source": [
        "<b><i>count()</i></b>: Conta quantas ocorrências existem de um determinado elemento dentro de um deque."
      ]
    },
    {
      "cell_type": "code",
      "execution_count": null,
      "metadata": {
        "id": "w5szkio_s7a7"
      },
      "outputs": [],
      "source": [
        "print(deque.count(6))"
      ]
    },
    {
      "cell_type": "markdown",
      "metadata": {
        "id": "Mbttfh2Hs96I"
      },
      "source": [
        "<b><i>reverse()</i></b>: Inverte a ordem dos elementos do deque."
      ]
    },
    {
      "cell_type": "code",
      "execution_count": null,
      "metadata": {
        "id": "_PuKIFe5tDzX"
      },
      "outputs": [],
      "source": [
        "deque.reverse()\n",
        "list(deque)"
      ]
    },
    {
      "cell_type": "markdown",
      "metadata": {
        "id": "frol1FmOtMQm"
      },
      "source": [
        "<b><i>rotate()</i></b>: Se o parâmetro passado for um número positivo, o último elemento do deque será agora o primeiro. Caso contrário, ou seja, se o parâmetro for um número negativo, o primeiro elemento do deque será agora o último."
      ]
    },
    {
      "cell_type": "code",
      "execution_count": null,
      "metadata": {
        "id": "TzJ-5L_Fy0dN"
      },
      "outputs": [],
      "source": [
        "deque.rotate(1)\n",
        "list(deque)"
      ]
    },
    {
      "cell_type": "code",
      "execution_count": null,
      "metadata": {
        "id": "TwBGjdk0tHyh"
      },
      "outputs": [],
      "source": [
        "deque.rotate(-1)\n",
        "list(deque)"
      ]
    },
    {
      "cell_type": "markdown",
      "metadata": {
        "id": "lAsT6A7PtR_w"
      },
      "source": [
        "# Exercícios"
      ]
    },
    {
      "cell_type": "markdown",
      "metadata": {
        "id": "T3amp4gytj8b"
      },
      "source": [
        "<b>Questão 01)</b> Crie uma fila ilimitada e vazia. Utilizando os métodos <i>put()</i> e <i>get()</i>, faça as seguintes operações nela:\n",
        "\n",
        "\n",
        "1.   Insira os números 3, 8, 2 e 4;\n",
        "2.   Processe (através do método get()) um elemento da fila e o exiba na tela;\n",
        "3.   Insira os números 5 e 9;\n",
        "4.   Processe todos os itens restantes na fila até que ela fique vazia novamente."
      ]
    },
    {
      "cell_type": "code",
      "execution_count": null,
      "metadata": {
        "id": "wdJ2EazKt3-d"
      },
      "outputs": [],
      "source": []
    },
    {
      "cell_type": "markdown",
      "metadata": {
        "id": "STp7Kukjt4np"
      },
      "source": [
        "<b>Questão 02)</b> Similar a questão anterior, crie agora um deque e, utilizando os métodos aprendidos durante o tutorial, faça as seguintes operações nele:\n",
        "\n",
        "\n",
        "1.   Insira os números 11, 32, 63 e 8;\n",
        "2.   Inverta a ordem dos elementos;\n",
        "3.   Insira, no início, o número 4 e, no final, o número 59;\n",
        "4.   Remova os elementos 11 e 63;\n",
        "5.   Troque a posição do último elemento com o primeiro;\n",
        "6.   Procure e mostre a posição do elemento 32;\n",
        "7.   Remova todos os elementos do deque."
      ]
    },
    {
      "cell_type": "code",
      "execution_count": null,
      "metadata": {
        "id": "yMyn29QuuU5M"
      },
      "outputs": [],
      "source": []
    },
    {
      "cell_type": "markdown",
      "metadata": {
        "id": "YR9GDsL6uVXA"
      },
      "source": [
        "<b>Questão 03)</b> Rodolfo, um aluno de TI, estava estudando sobre as estruturas de dados fila e deque. Para facilitar seu aprendizado sobre <b>deque</b>, ele criou funções para algumas operações que podiam ser feitas com a estrutura. Primeiramente, ele implementou uma função que inicializa e retorna um deque. Posteriormente, ele criou quatro funções que, respectivamente, insere no início e no final, e remove no início e no final do deque. Além disso, nas funções de remoção, Rodolfo pensou em, antes de remover o elemento, verificar se o deque estava vazio. Para isso, ele implementou uma função que determinava o tamanho do deque. Porém, Rodolfo é desatento e errou ao implementar algumas funções, confundindo os métodos de fila e deque. Ajude Rodolfo a reajustar as funções para que elas possam funcionar como deveriam.\n"
      ]
    },
    {
      "cell_type": "code",
      "execution_count": null,
      "metadata": {
        "id": "Ozm9KGSHudwi"
      },
      "outputs": [],
      "source": [
        "import deque\n",
        "\n",
        "def inicializar():\n",
        "  return deque\n",
        "\n",
        "def inserirComeco(deque, elemento):\n",
        "  deque.putleft(elemento)\n",
        "  return deque\n",
        "\n",
        "def inserirFinal(deque, elemento):\n",
        "  deque.put(elemento)\n",
        "  return deque\n",
        "\n",
        "def removerComeco(deque, elemento):\n",
        "  if tamanho(deque) != 0:\n",
        "  deque.pop()\n",
        "  return deque\n",
        "\n",
        "def removerFinal(deque, elemento):\n",
        "  if tamanho(deque) != 0:\n",
        "    deque.popright()\n",
        "  return deque\n",
        "\n",
        "def tamanho(deque):\n",
        "  return deque.qsize()"
      ]
    },
    {
      "cell_type": "markdown",
      "metadata": {
        "id": "ehrx8w7XuqWc"
      },
      "source": [
        "<b>Questão 4.1)</b> João está na fila de um banco esperando ser atendido. Porém, ele precisa sair em exatas uma hora para uma reunião importante. Sabe-se que um caixa leva 4 minutos para chamar a próxima pessoa da fila. João é a 22ª pessoa esperando ser atendida e o caixa chamou, no momento, a 8ª pessoa da fila. Com o auxílio da estrutura de dados fila, implemente um algoritmo que ajude João a descobrir se ele será atendido a tempo ou se ele deve voltar em um outro horário.\n"
      ]
    },
    {
      "cell_type": "code",
      "execution_count": null,
      "metadata": {
        "id": "PgE88ZlyuxwE"
      },
      "outputs": [],
      "source": []
    },
    {
      "cell_type": "markdown",
      "metadata": {
        "id": "Hm5y1Z7yuySr"
      },
      "source": [
        "<b>Questão 4.2)</b> Quando o caixa chamou a 14ª pessoa da fila, João percebeu que chegou uma gestante e um idoso ao banco. Estes, como têm prioridade, foram colocados para o início da fila. Sabendo que João pode ficar no banco por mais 36 minutos, o ajude, novamente, a saber se deve esperar ser atendido ou deve voltar em outro momento."
      ]
    },
    {
      "cell_type": "code",
      "execution_count": null,
      "metadata": {
        "id": "__St891Hu4on"
      },
      "outputs": [],
      "source": []
    }
  ],
  "metadata": {
    "colab": {
      "collapsed_sections": [
        "5LZAAs_ThZah",
        "uLdVvQ3dpz6I",
        "SPMyYspLqUj-",
        "lAsT6A7PtR_w"
      ],
      "name": "Fila, fila prioritária e deques.ipynb",
      "provenance": [],
      "toc_visible": true
    },
    "kernelspec": {
      "display_name": "Python 3",
      "language": "python",
      "name": "python3"
    },
    "language_info": {
      "codemirror_mode": {
        "name": "ipython",
        "version": 3
      },
      "file_extension": ".py",
      "mimetype": "text/x-python",
      "name": "python",
      "nbconvert_exporter": "python",
      "pygments_lexer": "ipython3",
      "version": "3.6.8"
    }
  },
  "nbformat": 4,
  "nbformat_minor": 0
}