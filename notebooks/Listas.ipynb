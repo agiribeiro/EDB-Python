{
  "nbformat": 4,
  "nbformat_minor": 0,
  "metadata": {
    "colab": {
      "name": "Aula03.ipynb",
      "provenance": [],
      "include_colab_link": true
    },
    "language_info": {
      "codemirror_mode": {
        "name": "ipython",
        "version": 2
      },
      "file_extension": ".py",
      "mimetype": "text/x-python",
      "name": "python",
      "nbconvert_exporter": "python",
      "pygments_lexer": "ipython2",
      "version": "2.7.10"
    },
    "kernelspec": {
      "display_name": "Python 2",
      "language": "python",
      "name": "python2"
    }
  },
  "cells": [
    {
      "cell_type": "markdown",
      "metadata": {
        "id": "view-in-github",
        "colab_type": "text"
      },
      "source": [
        "<a href=\"https://colab.research.google.com/github/agiribeiro/EDB1/blob/master/notebooks/Listas.ipynb\" target=\"_parent\"><img src=\"https://colab.research.google.com/assets/colab-badge.svg\" alt=\"Open In Colab\"/></a>"
      ]
    },
    {
      "cell_type": "markdown",
      "metadata": {
        "id": "1ZI3ppgzolGt"
      },
      "source": [
        "#Estruturas"
      ]
    },
    {
      "cell_type": "markdown",
      "metadata": {
        "id": "3BtBQ_WWolG2"
      },
      "source": [
        "Coleções de dados ou grupos de uma estrutura"
      ]
    },
    {
      "cell_type": "markdown",
      "metadata": {
        "id": "ZAe2PTusolG3"
      },
      "source": [
        "##Listas"
      ]
    },
    {
      "cell_type": "markdown",
      "metadata": {
        "id": "b1sJzCZpolG4"
      },
      "source": [
        "As listas são estrutura de dados muito utilizadas. Pense nisso como uma sequência de dados que está entre colchetes e os dados são separados por uma vírgula. Cada um desses dados pode ser acessado chamando seu valor de índice.\n",
        "\n",
        "As listas são declaradas apenas igualando uma variável a '[]' ou lista."
      ]
    },
    {
      "cell_type": "code",
      "metadata": {
        "id": "2t4KKFIZolG7"
      },
      "source": [
        "a = []"
      ],
      "execution_count": null,
      "outputs": []
    },
    {
      "cell_type": "code",
      "metadata": {
        "id": "Yhwdsas6olG_",
        "outputId": "0648202c-7ab2-41c9-d367-bb06758da795"
      },
      "source": [
        "print type(a)"
      ],
      "execution_count": null,
      "outputs": [
        {
          "output_type": "stream",
          "text": [
            "<type 'list'>\n"
          ],
          "name": "stdout"
        }
      ]
    },
    {
      "cell_type": "markdown",
      "metadata": {
        "id": "NCmDiKnIolHK"
      },
      "source": [
        "Pode-se atribuir diretamente a seqüência de dados a uma lista x, como mostrado."
      ]
    },
    {
      "cell_type": "code",
      "metadata": {
        "id": "wn1LajBColHL"
      },
      "source": [
        "x = ['apple', 'orange']"
      ],
      "execution_count": null,
      "outputs": []
    },
    {
      "cell_type": "markdown",
      "metadata": {
        "id": "V9rGmlGNolHO"
      },
      "source": [
        "### Indexando"
      ]
    },
    {
      "cell_type": "markdown",
      "metadata": {
        "id": "X8b_w6f_olHQ"
      },
      "source": [
        "Em python, Indexação inicia em 0. Assim, agora a lista x, que possui dois elementos, terá 'apple' no índice 0 e 'orange' no índice 1.\n"
      ]
    },
    {
      "cell_type": "code",
      "metadata": {
        "id": "W_Z2xF5XolHR",
        "outputId": "c0640192-f639-4d1f-d7cc-0e147c6925eb"
      },
      "source": [
        "x[0]"
      ],
      "execution_count": null,
      "outputs": [
        {
          "output_type": "execute_result",
          "data": {
            "text/plain": [
              "'apple'"
            ]
          },
          "metadata": {
            "tags": []
          },
          "execution_count": 4
        }
      ]
    },
    {
      "cell_type": "markdown",
      "metadata": {
        "id": "rnF397oIolHY"
      },
      "source": [
        "\n",
        "A indexação também pode ser feita na ordem inversa. O último elemento que pode ser acessado primeiro. Aqui, a indexação começa em -1. Assim, o valor do índice -1 será laranja e o índice -2 será 'apple'"
      ]
    },
    {
      "cell_type": "code",
      "metadata": {
        "id": "kRD7yzUuolHZ",
        "outputId": "02de12d4-3947-4167-aaf2-4f89073ddda7"
      },
      "source": [
        "x[-1]"
      ],
      "execution_count": null,
      "outputs": [
        {
          "output_type": "execute_result",
          "data": {
            "text/plain": [
              "'orange'"
            ]
          },
          "metadata": {
            "tags": []
          },
          "execution_count": 5
        }
      ]
    },
    {
      "cell_type": "markdown",
      "metadata": {
        "id": "HsDd9jHTolHd"
      },
      "source": [
        "Como você já deve ter imaginado, x [0] = x [-2], x [1] = x [-1]. Este conceito pode ser estendido para listas com mais elementos."
      ]
    },
    {
      "cell_type": "code",
      "metadata": {
        "id": "vT-pP0nPolHe"
      },
      "source": [
        "y = ['carrot','potato']"
      ],
      "execution_count": null,
      "outputs": []
    },
    {
      "cell_type": "markdown",
      "metadata": {
        "id": "eXbFRY_FolHl"
      },
      "source": [
        "Aqui nós declaramos duas listas x e y, cada uma contendo seus próprios dados. Agora, essas duas listas podem ser colocadas novamente em outra lista, digamos z, que terá seus dados como duas listas. Esta lista dentro de uma lista é chamada como listas aninhadas e é como uma matriz seria declarada, o que veremos mais adiante."
      ]
    },
    {
      "cell_type": "code",
      "metadata": {
        "id": "OONfIfu1olHn",
        "outputId": "964b7774-94c4-408a-c1f7-2885fb6c301b"
      },
      "source": [
        "z  = [x,y]\n",
        "print z"
      ],
      "execution_count": null,
      "outputs": [
        {
          "output_type": "stream",
          "text": [
            "[['apple', 'orange'], ['carrot', 'potato']]\n"
          ],
          "name": "stdout"
        }
      ]
    },
    {
      "cell_type": "markdown",
      "metadata": {
        "id": "3xTy9OcqolHs"
      },
      "source": [
        "\n",
        "A indexação em listas aninhadas pode ser bastante confusa se você não entender como a indexação funciona em python. Então vamos dividi-lo e depois chegar a uma conclusão.\n",
        "\n",
        "Vamos acessar os dados 'apple' na lista aninhada acima.\n",
        "Primeiro, no índice 0 existe uma lista ['apple', 'orange'] e no índice 1 há outra lista ['carriot', 'potato']. Então, z [0] deve nos dar a primeira lista que contém 'apple'."
      ]
    },
    {
      "cell_type": "code",
      "metadata": {
        "id": "eqtAnyTEolHs",
        "outputId": "70e22727-6b80-4861-890b-2be9d4a98847"
      },
      "source": [
        "z1 = z[0]\n",
        "print z1"
      ],
      "execution_count": null,
      "outputs": [
        {
          "output_type": "stream",
          "text": [
            "['apple', 'orange']\n"
          ],
          "name": "stdout"
        }
      ]
    },
    {
      "cell_type": "markdown",
      "metadata": {
        "id": "Z_bFgAEholHw"
      },
      "source": [
        "Agora observe que z1 não é uma lista aninhada, portanto, para acessar 'apple', z1 deve ser indexado em 0."
      ]
    },
    {
      "cell_type": "code",
      "metadata": {
        "id": "dfs3y13polHy",
        "outputId": "7c6a395d-da28-4e0c-87e7-95dfc6b6dfd4"
      },
      "source": [
        "z1[0]"
      ],
      "execution_count": null,
      "outputs": [
        {
          "output_type": "execute_result",
          "data": {
            "text/plain": [
              "'apple'"
            ]
          },
          "metadata": {
            "tags": []
          },
          "execution_count": 9
        }
      ]
    },
    {
      "cell_type": "markdown",
      "metadata": {
        "id": "vYB-10pJolH5"
      },
      "source": [
        "\n",
        "Em vez de fazer o acima, em python, você pode acessar 'apple' apenas escrevendo os valores do índice  lado a lado."
      ]
    },
    {
      "cell_type": "code",
      "metadata": {
        "id": "AJRdkusgolH7",
        "outputId": "3d03f984-746c-4924-eaed-cda3cda56446"
      },
      "source": [
        "z[0][0]"
      ],
      "execution_count": null,
      "outputs": [
        {
          "output_type": "execute_result",
          "data": {
            "text/plain": [
              "'apple'"
            ]
          },
          "metadata": {
            "tags": []
          },
          "execution_count": 10
        }
      ]
    },
    {
      "cell_type": "markdown",
      "metadata": {
        "id": "mr3iqe9FolIB"
      },
      "source": [
        "Se houver uma lista dentro de uma lista dentro de uma lista, você poderá acessar o valor mais interno executando z [] [] [].\n"
      ]
    },
    {
      "cell_type": "markdown",
      "metadata": {
        "id": "MnHYSxb8olID"
      },
      "source": [
        "### Slicing (Fatiando)"
      ]
    },
    {
      "cell_type": "markdown",
      "metadata": {
        "id": "WWm5pQCholIF"
      },
      "source": [
        "A indexação era limitada apenas ao acesso a um único elemento. O Slicing, por outro lado, acessa uma sequência de dados dentro da lista. Em outras palavras, \"fatiar\" a lista.\n",
        "\n",
        "O fatiamento é feito definindo os valores de índice do primeiro elemento e o último elemento da lista pai que é necessário na lista fatiada. É escrito como parênteses [a: b] onde a, b são os valores de índice da lista pai. Se a ou b não é definido, o valor do índice é considerado o primeiro valor de a, se a não está definido, e o último valor de b, quando b não está definido."
      ]
    },
    {
      "cell_type": "code",
      "metadata": {
        "id": "adWGL8WaolIJ"
      },
      "source": [
        "num = [0,1,2,3,4,5,6,7,8,9]"
      ],
      "execution_count": null,
      "outputs": []
    },
    {
      "cell_type": "code",
      "metadata": {
        "id": "OoJJQX6GolIN",
        "outputId": "5ed7b56e-d833-4d2f-e13b-0c02df508c29"
      },
      "source": [
        "print num[0:4]\n",
        "print num[4:]"
      ],
      "execution_count": null,
      "outputs": [
        {
          "output_type": "stream",
          "text": [
            "[0, 1, 2, 3]\n",
            "[4, 5, 6, 7, 8, 9]\n"
          ],
          "name": "stdout"
        }
      ]
    },
    {
      "cell_type": "markdown",
      "metadata": {
        "id": "4-NlwoWGolIW"
      },
      "source": [
        "Você também pode fatiar uma lista pai com um comprimento fixo ou comprimento de passo.\n"
      ]
    },
    {
      "cell_type": "code",
      "metadata": {
        "id": "0BgkvJMtolIY",
        "outputId": "158b6c60-f466-4be5-a563-02f5ab1642d7"
      },
      "source": [
        "num[:9:3]"
      ],
      "execution_count": null,
      "outputs": [
        {
          "output_type": "execute_result",
          "data": {
            "text/plain": [
              "[0, 3, 6]"
            ]
          },
          "metadata": {
            "tags": []
          },
          "execution_count": 13
        }
      ]
    },
    {
      "cell_type": "markdown",
      "metadata": {
        "id": "3Eq9kz_2olIm"
      },
      "source": [
        "###Funções para usar com listas"
      ]
    },
    {
      "cell_type": "markdown",
      "metadata": {
        "id": "kUOIKi3ZolIn"
      },
      "source": [
        "Para encontrar o tamanho da lista ou o número de elementos em uma lista, **len ()** é usado."
      ]
    },
    {
      "cell_type": "code",
      "metadata": {
        "id": "cSK_eJY6olIo",
        "outputId": "ff3e7820-0978-47a0-eee9-0e8b5ce5ef57"
      },
      "source": [
        "len(num)"
      ],
      "execution_count": null,
      "outputs": [
        {
          "output_type": "execute_result",
          "data": {
            "text/plain": [
              "10"
            ]
          },
          "metadata": {
            "tags": []
          },
          "execution_count": 14
        }
      ]
    },
    {
      "cell_type": "markdown",
      "metadata": {
        "id": "ajQll5YUolIr"
      },
      "source": [
        "Se a lista consistir em todos os elementos inteiros, então **min ()** e **max ()** fornecem o valor mínimo e máximo na lista."
      ]
    },
    {
      "cell_type": "code",
      "metadata": {
        "id": "xHV89bG6olIs",
        "outputId": "78a1b8ac-6091-404c-82fe-248e025d4a26"
      },
      "source": [
        "min(num)"
      ],
      "execution_count": null,
      "outputs": [
        {
          "output_type": "execute_result",
          "data": {
            "text/plain": [
              "0"
            ]
          },
          "metadata": {
            "tags": []
          },
          "execution_count": 15
        }
      ]
    },
    {
      "cell_type": "code",
      "metadata": {
        "id": "mxDHx4mPolIx",
        "outputId": "0b15f64c-efcd-4bd7-8081-3e1564b0da4f"
      },
      "source": [
        "max(num)"
      ],
      "execution_count": null,
      "outputs": [
        {
          "output_type": "execute_result",
          "data": {
            "text/plain": [
              "9"
            ]
          },
          "metadata": {
            "tags": []
          },
          "execution_count": 16
        }
      ]
    },
    {
      "cell_type": "markdown",
      "metadata": {
        "id": "b9KSnRvAolI2"
      },
      "source": [
        "Listas podem ser concatenadas usando o '+'"
      ]
    },
    {
      "cell_type": "code",
      "metadata": {
        "id": "LBfe6yntolI4",
        "outputId": "bab00dc3-2429-4c88-a559-34a48be772b5"
      },
      "source": [
        "[1,2,3] + [5,4,7]"
      ],
      "execution_count": null,
      "outputs": [
        {
          "output_type": "execute_result",
          "data": {
            "text/plain": [
              "[1, 2, 3, 5, 4, 7]"
            ]
          },
          "metadata": {
            "tags": []
          },
          "execution_count": 17
        }
      ]
    },
    {
      "cell_type": "markdown",
      "metadata": {
        "id": "WBsUPuHGolI9"
      },
      "source": [
        "Pode surgir um caso em que você pode precisar verificar se um determinado elemento existe em uma lista predefinida. Considere a lista abaixo."
      ]
    },
    {
      "cell_type": "code",
      "metadata": {
        "id": "Q163XvF4olI-"
      },
      "source": [
        "names = ['Earth','Air','Fire','Water']"
      ],
      "execution_count": null,
      "outputs": []
    },
    {
      "cell_type": "markdown",
      "metadata": {
        "id": "YXB9kmfoolJD"
      },
      "source": [
        "Para verificar se 'Fire' e 'Anna' estão presentes nos nomes das listas. Uma abordagem convencional seria usar um loop for e iterar sobre a lista e usar a condição if. Mas em python você pode usar o conceito 'a in b' que retornaria 'True' se a estiver presente em b e 'False' se não estiver.\n"
      ]
    },
    {
      "cell_type": "code",
      "metadata": {
        "id": "emAPIcNrolJG",
        "outputId": "0a4c82f9-8f03-46f0-bae0-d0b5c8fffc6b"
      },
      "source": [
        "'Fire' in names"
      ],
      "execution_count": null,
      "outputs": [
        {
          "output_type": "execute_result",
          "data": {
            "text/plain": [
              "True"
            ]
          },
          "metadata": {
            "tags": []
          },
          "execution_count": 19
        }
      ]
    },
    {
      "cell_type": "code",
      "metadata": {
        "id": "2nTN1pg9olJM",
        "outputId": "2ecd5312-cc18-4392-80b7-3102a1537ee0"
      },
      "source": [
        "'Anna' in names"
      ],
      "execution_count": null,
      "outputs": [
        {
          "output_type": "execute_result",
          "data": {
            "text/plain": [
              "False"
            ]
          },
          "metadata": {
            "tags": []
          },
          "execution_count": 20
        }
      ]
    },
    {
      "cell_type": "markdown",
      "metadata": {
        "id": "CrZjRahPolJS"
      },
      "source": [
        "Em uma lista com elementos como string, **max ()** e **min ()** são aplicáveis. **max ()** retornaria um elemento de string cujo valor ASCII é o maior e o menor quando **min ()** é usado. Observe que apenas o primeiro índice de cada elemento é considerado a cada vez e, se eles tiverem valor, o segundo índice será considerado assim e assim por diante.\n"
      ]
    },
    {
      "cell_type": "code",
      "metadata": {
        "id": "fxTlpPGColJU"
      },
      "source": [
        "mlist = ['bzaa','ds','nc','az','z','klm']"
      ],
      "execution_count": null,
      "outputs": []
    },
    {
      "cell_type": "code",
      "metadata": {
        "id": "E_uHf4llolJc",
        "outputId": "194d2763-ea81-4534-a2bd-1d70e4cdc825"
      },
      "source": [
        "print max(mlist)\n",
        "print min(mlist)"
      ],
      "execution_count": null,
      "outputs": [
        {
          "output_type": "stream",
          "text": [
            "z\n",
            "az\n"
          ],
          "name": "stdout"
        }
      ]
    },
    {
      "cell_type": "markdown",
      "metadata": {
        "id": "uwJrks0lolJj"
      },
      "source": [
        "Aqui o primeiro índice de cada elemento é considerado e, portanto, z tem o maior valor ASCII, portanto, é retornado e o ASCII mínimo é um. Mas e se os números forem declarados como strings?"
      ]
    },
    {
      "cell_type": "code",
      "metadata": {
        "id": "Y1Uf57B1olJk"
      },
      "source": [
        "nlist = ['1','94','93','1000']"
      ],
      "execution_count": null,
      "outputs": []
    },
    {
      "cell_type": "code",
      "metadata": {
        "id": "qF7EOHsBolJs",
        "outputId": "af05f2d4-1b3a-4ebb-e4db-4f76a866b0bc"
      },
      "source": [
        "print max(nlist)\n",
        "print min(nlist)"
      ],
      "execution_count": null,
      "outputs": [
        {
          "output_type": "stream",
          "text": [
            "94\n",
            "1\n"
          ],
          "name": "stdout"
        }
      ]
    },
    {
      "cell_type": "markdown",
      "metadata": {
        "id": "r7G4HGY-olJz"
      },
      "source": [
        "Mesmo se os números forem declarados em uma string, o primeiro índice de cada elemento será considerado e os valores máximo e mínimo serão retornados de acordo.\n"
      ]
    },
    {
      "cell_type": "markdown",
      "metadata": {
        "id": "aLEkpiF_olJ1"
      },
      "source": [
        "Mas se você quiser encontrar o elemento de cadeia de caracteres **max ()** com base no comprimento da string, outro parâmetro 'key = len' é declarado dentro do **max ()** e **min ()** ."
      ]
    },
    {
      "cell_type": "code",
      "metadata": {
        "id": "fLk8Ag34olJ2",
        "outputId": "67fddf9f-ce9d-47c4-94a1-dff4dacd523f"
      },
      "source": [
        "print max(names, key=len)\n",
        "print min(names, key=len)"
      ],
      "execution_count": null,
      "outputs": [
        {
          "output_type": "stream",
          "text": [
            "Earth\n",
            "Air\n"
          ],
          "name": "stdout"
        }
      ]
    },
    {
      "cell_type": "markdown",
      "metadata": {
        "id": "QGFpv96aolJ-"
      },
      "source": [
        "Mas mesmo 'Water' tenho comprimento 5. **max ()** ou **min ()** a função retorna o primeiro elemento quando há dois ou mais elementos com o mesmo comprimento.\n",
        "\n",
        "Qualquer outra função incorporada pode ser usada ou a função lambda (será discutida posteriormente) no lugar de len.\n",
        "\n",
        "Uma string pode ser convertida em uma lista usando a função **list ()**."
      ]
    },
    {
      "cell_type": "code",
      "metadata": {
        "id": "8Bz0i9YPolJ_",
        "outputId": "dc347d81-a8d9-4bb5-89a7-1f8ee238a72f"
      },
      "source": [
        "list('hello')"
      ],
      "execution_count": null,
      "outputs": [
        {
          "output_type": "execute_result",
          "data": {
            "text/plain": [
              "['h', 'e', 'l', 'l', 'o']"
            ]
          },
          "metadata": {
            "tags": []
          },
          "execution_count": 26
        }
      ]
    },
    {
      "cell_type": "markdown",
      "metadata": {
        "id": "6p4lB_ANolKE"
      },
      "source": [
        "**append( )** é usado para adicionar um elemento no final da lista."
      ]
    },
    {
      "cell_type": "code",
      "metadata": {
        "id": "xSLWS8g1olKE"
      },
      "source": [
        "lst = [1,1,4,8,7]"
      ],
      "execution_count": null,
      "outputs": []
    },
    {
      "cell_type": "code",
      "metadata": {
        "id": "Hg_oSHmsolKH",
        "outputId": "a0fd253b-cc08-4234-f935-6af1cd5f831b"
      },
      "source": [
        "lst.append(1)\n",
        "print lst"
      ],
      "execution_count": null,
      "outputs": [
        {
          "output_type": "stream",
          "text": [
            "[1, 1, 4, 8, 7, 1]\n"
          ],
          "name": "stdout"
        }
      ]
    },
    {
      "cell_type": "markdown",
      "metadata": {
        "id": "gdg77JzdolKO"
      },
      "source": [
        "**count( )**  é usado para contar o número de vezes que um elemento aparece dentro de uma lista."
      ]
    },
    {
      "cell_type": "code",
      "metadata": {
        "id": "qyYCKQDiolKP",
        "outputId": "30b8ac11-d3eb-4a59-ff76-1352ab513aae"
      },
      "source": [
        "lst.count(1)"
      ],
      "execution_count": null,
      "outputs": [
        {
          "output_type": "execute_result",
          "data": {
            "text/plain": [
              "3"
            ]
          },
          "metadata": {
            "tags": []
          },
          "execution_count": 29
        }
      ]
    },
    {
      "cell_type": "markdown",
      "metadata": {
        "id": "d1wdfc7SolKS"
      },
      "source": [
        "**append( )** pode ser usado para adicionar outra lista no final, observe que o resultado é uma lista aninhada."
      ]
    },
    {
      "cell_type": "code",
      "metadata": {
        "id": "NVz-8jixolKY"
      },
      "source": [
        "lst1 = [5,4,2,8]"
      ],
      "execution_count": null,
      "outputs": []
    },
    {
      "cell_type": "code",
      "metadata": {
        "id": "Yndw_GmeolKe",
        "outputId": "d89b94c7-74fa-4bd7-9e5c-da5d9d220b1e"
      },
      "source": [
        "lst.append(lst1)\n",
        "print lst"
      ],
      "execution_count": null,
      "outputs": [
        {
          "output_type": "stream",
          "text": [
            "[1, 1, 4, 8, 7, 1, [5, 4, 2, 8]]\n"
          ],
          "name": "stdout"
        }
      ]
    },
    {
      "cell_type": "markdown",
      "metadata": {
        "collapsed": false,
        "id": "CTigV7bmolKk"
      },
      "source": [
        "se você não deseja ter como resultado uma lista aninha , use **extend()**.\n"
      ]
    },
    {
      "cell_type": "code",
      "metadata": {
        "id": "3kqpBs9iolKl",
        "outputId": "c00a6973-a407-4160-ed97-daf447133e96"
      },
      "source": [
        "lst.extend(lst1)\n",
        "print lst"
      ],
      "execution_count": null,
      "outputs": [
        {
          "output_type": "stream",
          "text": [
            "[1, 1, 4, 8, 7, 1, [5, 4, 2, 8], 5, 4, 2, 8]\n"
          ],
          "name": "stdout"
        }
      ]
    },
    {
      "cell_type": "markdown",
      "metadata": {
        "id": "bTJNWGh0olKp"
      },
      "source": [
        "**index ()** é usado para encontrar o valor de índice de um elemento específico. Observe que, se houver vários elementos do mesmo valor, o primeiro valor de índice desse elemento será retornado."
      ]
    },
    {
      "cell_type": "code",
      "metadata": {
        "id": "UsxcsItOolKq",
        "outputId": "a033bf01-305c-42d5-9ed4-2826449bb8eb"
      },
      "source": [
        "lst.index(1)"
      ],
      "execution_count": null,
      "outputs": [
        {
          "output_type": "execute_result",
          "data": {
            "text/plain": [
              "0"
            ]
          },
          "metadata": {
            "tags": []
          },
          "execution_count": 33
        }
      ]
    },
    {
      "cell_type": "markdown",
      "metadata": {
        "id": "ij6KOALnolKx"
      },
      "source": [
        "**insert (x, y)** é usado para inserir um elemento y em um valor de índice especificado x. **append ()** função só é possível inserir no final.\n"
      ]
    },
    {
      "cell_type": "code",
      "metadata": {
        "id": "9V--wj-iolKx",
        "outputId": "3b361bf7-e58c-4016-c255-8c7d848e9506"
      },
      "source": [
        "lst.insert(5, 'name')\n",
        "print lst"
      ],
      "execution_count": null,
      "outputs": [
        {
          "output_type": "stream",
          "text": [
            "[1, 1, 4, 8, 7, 'name', 1, [5, 4, 2, 8], 5, 4, 2, 8]\n"
          ],
          "name": "stdout"
        }
      ]
    },
    {
      "cell_type": "markdown",
      "metadata": {
        "id": "XFkAhyS5olK0"
      },
      "source": [
        "**insert (x, y)** insere mas não substitui o elemento. Se você quiser substituir o elemento por outro elemento, simplesmente atribua o valor a esse índice específico.\n"
      ]
    },
    {
      "cell_type": "code",
      "metadata": {
        "id": "c_fbbLB4olK1",
        "outputId": "59a57baa-91ac-450b-d335-debb282b9694"
      },
      "source": [
        "lst[5] = 'Python'\n",
        "print lst"
      ],
      "execution_count": null,
      "outputs": [
        {
          "output_type": "stream",
          "text": [
            "[1, 1, 4, 8, 7, 'Python', 1, [5, 4, 2, 8], 5, 4, 2, 8]\n"
          ],
          "name": "stdout"
        }
      ]
    },
    {
      "cell_type": "markdown",
      "metadata": {
        "id": "-vImAk6MolK5"
      },
      "source": [
        "**pop( )** function return the last element in the list. This is similar to the operation of a stack. Hence it wouldn't be wrong to tell that lists can be used as a stack."
      ]
    },
    {
      "cell_type": "code",
      "metadata": {
        "id": "kyHV1VDsolK6",
        "outputId": "291b5004-e1d1-4429-9d36-478b9881f859"
      },
      "source": [
        "lst.pop()"
      ],
      "execution_count": null,
      "outputs": [
        {
          "output_type": "execute_result",
          "data": {
            "text/plain": [
              "8"
            ]
          },
          "metadata": {
            "tags": []
          },
          "execution_count": 36
        }
      ]
    },
    {
      "cell_type": "markdown",
      "metadata": {
        "id": "67YTOlgFolK_"
      },
      "source": [
        "Index value can be specified to pop a ceratin element corresponding to that index value."
      ]
    },
    {
      "cell_type": "code",
      "metadata": {
        "id": "GEWQBtt7olLA",
        "outputId": "db50a523-8934-4bbb-fb5e-ed37b84b2496"
      },
      "source": [
        "lst.pop(0)"
      ],
      "execution_count": null,
      "outputs": [
        {
          "output_type": "execute_result",
          "data": {
            "text/plain": [
              "1"
            ]
          },
          "metadata": {
            "tags": []
          },
          "execution_count": 37
        }
      ]
    },
    {
      "cell_type": "markdown",
      "metadata": {
        "id": "ql1C4bX-olLE"
      },
      "source": [
        "\n",
        "**pop ()** é usado para remover o elemento com base em seu valor de índice que pode ser atribuído a uma variável. Também é possível remover o elemento especificando o próprio elemento usando a função **remove ()**."
      ]
    },
    {
      "cell_type": "code",
      "metadata": {
        "id": "fgTuH3VdolLF",
        "outputId": "2b9e499d-ce72-4b0c-af6e-e0e6746480f9"
      },
      "source": [
        "lst.remove('Python')\n",
        "print lst"
      ],
      "execution_count": null,
      "outputs": [
        {
          "output_type": "stream",
          "text": [
            "[1, 4, 8, 7, 1, [5, 4, 2, 8], 5, 4, 2]\n"
          ],
          "name": "stdout"
        }
      ]
    },
    {
      "cell_type": "markdown",
      "metadata": {
        "id": "KsIAvi5dolLN"
      },
      "source": [
        "Alternativa para **remover** função, mas com o uso do valor de índice é **del**"
      ]
    },
    {
      "cell_type": "code",
      "metadata": {
        "id": "VaUaDdOaolLO",
        "outputId": "e1c3ca38-a5c7-4dae-8d35-9a7806e3ef44"
      },
      "source": [
        "del lst[1]\n",
        "print lst"
      ],
      "execution_count": null,
      "outputs": [
        {
          "output_type": "stream",
          "text": [
            "[1, 8, 7, 1, [5, 4, 2, 8], 5, 4, 2]\n"
          ],
          "name": "stdout"
        }
      ]
    },
    {
      "cell_type": "markdown",
      "metadata": {
        "collapsed": false,
        "id": "HHREfFENolLU"
      },
      "source": [
        "Todos os elementos presentes na lista podem ser revertidos usando a função **reverse ()**.\n"
      ]
    },
    {
      "cell_type": "code",
      "metadata": {
        "id": "l5XmmBYrolLV",
        "outputId": "03a6e557-d42c-4ff4-dc35-fdf7f33ff762"
      },
      "source": [
        "lst.reverse()\n",
        "print lst"
      ],
      "execution_count": null,
      "outputs": [
        {
          "output_type": "stream",
          "text": [
            "[2, 4, 5, [5, 4, 2, 8], 1, 7, 8, 1]\n"
          ],
          "name": "stdout"
        }
      ]
    },
    {
      "cell_type": "markdown",
      "metadata": {
        "id": "y05NTWrDolLZ"
      },
      "source": [
        "Observe que a lista aninhada [5,4,2,8] é tratada como um único elemento da lista pai lst. Assim, os elementos dentro da lista aninhada não são revertidos.\n",
        "Detalhes:\n",
        "O Python oferece operação interna **sort ()** para organizar os elementos em ordem crescente."
      ]
    },
    {
      "cell_type": "code",
      "metadata": {
        "id": "hV3hBPJkolLb",
        "outputId": "746a0e48-9ba8-4293-8bcd-0c9aeba82476"
      },
      "source": [
        "lst.sort()\n",
        "print lst"
      ],
      "execution_count": null,
      "outputs": [
        {
          "output_type": "stream",
          "text": [
            "[1, 1, 2, 4, 5, 7, 8, [5, 4, 2, 8]]\n"
          ],
          "name": "stdout"
        }
      ]
    },
    {
      "cell_type": "markdown",
      "metadata": {
        "id": "mGom8irgolLl"
      },
      "source": [
        "Por ordem decrescente, Por padrão, a condição inversa será Falso para reverso. Portanto, alterá-lo para True organizaria os elementos em ordem decrescente."
      ]
    },
    {
      "cell_type": "code",
      "metadata": {
        "id": "0v28HbMLolLm",
        "outputId": "862a277d-bf32-4419-ac35-480baa07be34"
      },
      "source": [
        "lst.sort(reverse=True)\n",
        "print lst"
      ],
      "execution_count": null,
      "outputs": [
        {
          "output_type": "stream",
          "text": [
            "[[5, 4, 2, 8], 8, 7, 5, 4, 2, 1, 1]\n"
          ],
          "name": "stdout"
        }
      ]
    },
    {
      "cell_type": "markdown",
      "metadata": {
        "id": "NX-kYxSOolLr"
      },
      "source": [
        "Da mesma forma, para listas que contêm elementos de string, o **sort ()** classifica os elementos com base em seu valor ASCII em ascendente e especificando reverse = True em decrescente.\n"
      ]
    },
    {
      "cell_type": "code",
      "metadata": {
        "id": "uUEBeLxOolLr",
        "outputId": "7d531377-c811-49a6-ef1b-122707dc1f18"
      },
      "source": [
        "names.sort()\n",
        "print names\n",
        "names.sort(reverse=True)\n",
        "print names"
      ],
      "execution_count": null,
      "outputs": [
        {
          "output_type": "stream",
          "text": [
            "['Air', 'Earth', 'Fire', 'Water']\n",
            "['Water', 'Fire', 'Earth', 'Air']\n"
          ],
          "name": "stdout"
        }
      ]
    },
    {
      "cell_type": "markdown",
      "metadata": {
        "id": "dX5_TgrvolLw"
      },
      "source": [
        "Para classificar com base na chave de key = len deve ser especificado como mostrado."
      ]
    },
    {
      "cell_type": "code",
      "metadata": {
        "id": "WTJ6dn7LolLx",
        "outputId": "95e181b9-4b11-4884-afe2-4e31c7fed0d0"
      },
      "source": [
        "names.sort(key=len)\n",
        "print names\n",
        "names.sort(key=len,reverse=True)\n",
        "print names"
      ],
      "execution_count": null,
      "outputs": [
        {
          "output_type": "stream",
          "text": [
            "['Air', 'Fire', 'Water', 'Earth']\n",
            "['Water', 'Earth', 'Fire', 'Air']\n"
          ],
          "name": "stdout"
        }
      ]
    },
    {
      "cell_type": "markdown",
      "metadata": {
        "id": "qAyXIoQDolL1"
      },
      "source": [
        "### Copiando uma lista"
      ]
    },
    {
      "cell_type": "markdown",
      "metadata": {
        "id": "gn3rL1N-olL2"
      },
      "source": [
        "A maioria dos novos programadores de python cometem esse erro. Considere o seguinte,\n"
      ]
    },
    {
      "cell_type": "code",
      "metadata": {
        "id": "bPqdW_jSolL3"
      },
      "source": [
        "lista= [2,1,4,3]"
      ],
      "execution_count": null,
      "outputs": []
    },
    {
      "cell_type": "code",
      "metadata": {
        "id": "_fZOs7wsolL6",
        "outputId": "d2dc64bd-e0f6-4de2-fdc8-597954b5dadb"
      },
      "source": [
        "listb = lista\n",
        "print listb"
      ],
      "execution_count": null,
      "outputs": [
        {
          "output_type": "stream",
          "text": [
            "[2, 1, 4, 3]\n"
          ],
          "name": "stdout"
        }
      ]
    },
    {
      "cell_type": "markdown",
      "metadata": {
        "id": "Tis_do6EolL-"
      },
      "source": [
        "Aqui, nós declaramos uma lista, lista = [2,1,4,3]. Esta lista é copiada para listb, atribuindo seu valor e é copiado como visto. Agora executamos algumas operações aleatórias na lista.\n"
      ]
    },
    {
      "cell_type": "code",
      "metadata": {
        "id": "FpT6wu7YolL_",
        "outputId": "afa34935-feb1-4a95-c3fb-5e3b7cd75bab"
      },
      "source": [
        "lista.pop()\n",
        "print lista\n",
        "lista.append(9)\n",
        "print lista"
      ],
      "execution_count": null,
      "outputs": [
        {
          "output_type": "stream",
          "text": [
            "[2, 1, 4]\n",
            "[2, 1, 4, 9]\n"
          ],
          "name": "stdout"
        }
      ]
    },
    {
      "cell_type": "code",
      "metadata": {
        "id": "JRfSbNmBolMD",
        "outputId": "ef52327c-0b57-4f9f-98eb-78c00f7bc3d0"
      },
      "source": [
        "print listb"
      ],
      "execution_count": null,
      "outputs": [
        {
          "output_type": "stream",
          "text": [
            "[2, 1, 4, 9]\n"
          ],
          "name": "stdout"
        }
      ]
    },
    {
      "cell_type": "markdown",
      "metadata": {
        "id": "sTQBKezqolMG"
      },
      "source": [
        "O listb também mudou, embora nenhuma operação tenha sido executada nele. Isso é porque você atribuiu o mesmo espaço de memória de lista a listb. Então, como consertar isso?\n",
        "\n",
        "Se você se lembra, no fatiamento vimos que a lista parental [a: b] retorna uma lista da lista pai com o índice inicial aeo índice final b e se a e b não são mencionados, então, por padrão, considera o primeiro e último elemento. Nós usamos o mesmo conceito aqui. Ao fazer isso, estamos atribuindo os dados de lista para listb como uma variável."
      ]
    },
    {
      "cell_type": "code",
      "metadata": {
        "id": "KIFmuzusolMH"
      },
      "source": [
        "lista = [2,1,4,3]"
      ],
      "execution_count": null,
      "outputs": []
    },
    {
      "cell_type": "code",
      "metadata": {
        "id": "-Mc9cdqYolMJ",
        "outputId": "3a46c5c2-21f1-4892-8793-d3581112c742"
      },
      "source": [
        "listb = lista[:]\n",
        "print listb"
      ],
      "execution_count": null,
      "outputs": [
        {
          "output_type": "stream",
          "text": [
            "[2, 1, 4, 3]\n"
          ],
          "name": "stdout"
        }
      ]
    },
    {
      "cell_type": "code",
      "metadata": {
        "id": "H-TvuTYlolMM",
        "outputId": "9283efe7-520a-4eeb-e29d-fb7aa24b7c00"
      },
      "source": [
        "lista.pop()\n",
        "print lista\n",
        "lista.append(9)\n",
        "print lista"
      ],
      "execution_count": null,
      "outputs": [
        {
          "output_type": "stream",
          "text": [
            "[2, 1, 4]\n",
            "[2, 1, 4, 9]\n"
          ],
          "name": "stdout"
        }
      ]
    },
    {
      "cell_type": "code",
      "metadata": {
        "id": "0L5ROdooolMP",
        "outputId": "20dfe363-e6b6-405f-a6d6-8c578759d7cc"
      },
      "source": [
        "print listb"
      ],
      "execution_count": null,
      "outputs": [
        {
          "output_type": "stream",
          "text": [
            "[2, 1, 4, 3]\n"
          ],
          "name": "stdout"
        }
      ]
    },
    {
      "cell_type": "markdown",
      "metadata": {
        "id": "WD53IBvQolMR"
      },
      "source": [
        "##Tuplas"
      ]
    },
    {
      "cell_type": "markdown",
      "metadata": {
        "id": "2ssLCA08olMR"
      },
      "source": [
        "As tuplas são semelhantes às listas, mas apenas a grande diferença é que os elementos dentro de uma lista podem ser alterados, mas na tupla ela não pode ser alterada. Pense em tuplas como algo que deve ser verdadeiro para um determinado algo e não pode ser verdadeiro para nenhum outro valor. Para melhor compreensão, chame **divmod ()**.\n"
      ]
    },
    {
      "cell_type": "code",
      "metadata": {
        "id": "rUHssqw8olMT",
        "outputId": "1c710e4a-a47a-463b-dc45-aa5adbe3595d"
      },
      "source": [
        "xyz = divmod(10,3)\n",
        "print xyz\n",
        "print type(xyz)"
      ],
      "execution_count": null,
      "outputs": [
        {
          "output_type": "stream",
          "text": [
            "(3, 1)\n",
            "<type 'tuple'>\n"
          ],
          "name": "stdout"
        }
      ]
    },
    {
      "cell_type": "markdown",
      "metadata": {
        "id": "Odw7oWFaolMW"
      },
      "source": [
        "Aqui o quociente tem que ser 3 e o restante deve ser 1. Esses valores não podem ser alterados quando 10 é dividido por 3. Portanto, divmod retorna esses valores em uma tupla.\n"
      ]
    },
    {
      "cell_type": "markdown",
      "metadata": {
        "id": "P_0ay2JtolMY"
      },
      "source": [
        "Para definir uma tupla, uma variável é atribuída a parênteses () ou tuple ().\n"
      ]
    },
    {
      "cell_type": "code",
      "metadata": {
        "id": "LOyojLSWolMZ"
      },
      "source": [
        "tup = ()\n",
        "tup2 = tuple()"
      ],
      "execution_count": null,
      "outputs": []
    },
    {
      "cell_type": "markdown",
      "metadata": {
        "id": "-vcStX3colMc"
      },
      "source": [
        "Se você quiser declarar diretamente uma tupla, isso pode ser feito usando uma vírgula no final dos dados.\n"
      ]
    },
    {
      "cell_type": "code",
      "metadata": {
        "id": "3E3-22L2olMe",
        "outputId": "528f5b03-4965-4319-efed-fe0a2eee022b"
      },
      "source": [
        "27,"
      ],
      "execution_count": null,
      "outputs": [
        {
          "output_type": "execute_result",
          "data": {
            "text/plain": [
              "(27,)"
            ]
          },
          "metadata": {
            "tags": []
          },
          "execution_count": 55
        }
      ]
    },
    {
      "cell_type": "markdown",
      "metadata": {
        "id": "94xClnHfolMk"
      },
      "source": [
        "27 quando multiplicado por 2 produz 54, mas quando multiplicado por uma tupla, os dados são repetidos duas vezes.\n"
      ]
    },
    {
      "cell_type": "code",
      "metadata": {
        "id": "bSgerRRyolMl",
        "outputId": "0b771124-0db5-48e9-f7bd-647b6534ff97"
      },
      "source": [
        "2*(27,)"
      ],
      "execution_count": null,
      "outputs": [
        {
          "output_type": "execute_result",
          "data": {
            "text/plain": [
              "(27, 27)"
            ]
          },
          "metadata": {
            "tags": []
          },
          "execution_count": 56
        }
      ]
    },
    {
      "cell_type": "markdown",
      "metadata": {
        "id": "niITmfSHolMo"
      },
      "source": [
        "Valores podem ser atribuídos ao declarar uma tupla. Ele pega uma lista como entrada e a converte em uma tupla ou pega uma string e a converte em uma tupla.\n"
      ]
    },
    {
      "cell_type": "code",
      "metadata": {
        "scrolled": true,
        "id": "OVXwHtlcolMo",
        "outputId": "3d184235-a090-4cf9-d925-68d3c2412296"
      },
      "source": [
        "tup3 = tuple([1,2,3])\n",
        "print tup3\n",
        "tup4 = tuple('Hello')\n",
        "print tup4"
      ],
      "execution_count": null,
      "outputs": [
        {
          "output_type": "stream",
          "text": [
            "(1, 2, 3)\n",
            "('H', 'e', 'l', 'l', 'o')\n"
          ],
          "name": "stdout"
        }
      ]
    },
    {
      "cell_type": "markdown",
      "metadata": {
        "id": "uv4v8_ugolMr"
      },
      "source": [
        "Segue a mesma indexação e fatiamento das listas.\n"
      ]
    },
    {
      "cell_type": "code",
      "metadata": {
        "id": "-WIgsZL_olMs",
        "outputId": "0b78f8e7-4755-4440-9afa-7154b026b97f"
      },
      "source": [
        "print tup3[1]\n",
        "tup5 = tup4[:3]\n",
        "print tup5"
      ],
      "execution_count": null,
      "outputs": [
        {
          "output_type": "stream",
          "text": [
            "2\n",
            "('H', 'e', 'l')\n"
          ],
          "name": "stdout"
        }
      ]
    },
    {
      "cell_type": "markdown",
      "metadata": {
        "id": "51-atqdrolMw"
      },
      "source": [
        "### Mapeando"
      ]
    },
    {
      "cell_type": "code",
      "metadata": {
        "id": "4BvTtWEYolMx"
      },
      "source": [
        "(a,b,c)= ('alpha','beta','gamma')"
      ],
      "execution_count": null,
      "outputs": []
    },
    {
      "cell_type": "code",
      "metadata": {
        "id": "biH18mPLolM2",
        "outputId": "580f4e73-929a-45c5-f660-10e7492a88e9"
      },
      "source": [
        "print a,b,c"
      ],
      "execution_count": null,
      "outputs": [
        {
          "output_type": "stream",
          "text": [
            "alpha beta gamma\n"
          ],
          "name": "stdout"
        }
      ]
    },
    {
      "cell_type": "code",
      "metadata": {
        "id": "CltNI2-eolM6",
        "outputId": "425b2c9f-7a75-47da-d064-0abf33d43046",
        "colab": {
          "base_uri": "https://localhost:8080/",
          "height": 34
        }
      },
      "source": [
        "d = tuple('AnnaRibeiro')\n",
        "print d"
      ],
      "execution_count": null,
      "outputs": [
        {
          "output_type": "stream",
          "text": [
            "('A', 'n', 'n', 'a', 'R', 'i', 'b', 'e', 'i', 'r', 'o')\n"
          ],
          "name": "stdout"
        }
      ]
    },
    {
      "cell_type": "markdown",
      "metadata": {
        "id": "awD4Izn5olM8"
      },
      "source": [
        "### Funções para tuplas"
      ]
    },
    {
      "cell_type": "markdown",
      "metadata": {
        "id": "GslF5dgaolM8"
      },
      "source": [
        "**count()** retorna a quantidade de um determinado elemento presente em uma tupla.\n"
      ]
    },
    {
      "cell_type": "code",
      "metadata": {
        "id": "sTAXNx9jolM-",
        "outputId": "73854775-722c-4aab-d6b3-0cd513a9f19a"
      },
      "source": [
        "d.count('a')"
      ],
      "execution_count": null,
      "outputs": [
        {
          "output_type": "execute_result",
          "data": {
            "text/plain": [
              "3"
            ]
          },
          "metadata": {
            "tags": []
          },
          "execution_count": 62
        }
      ]
    },
    {
      "cell_type": "markdown",
      "metadata": {
        "id": "mVCESRN0olNB"
      },
      "source": [
        "**index()** retorna o índice do elemento especificado. Se os elementos forem mais de um, o índice do primeiro elemento desse elemento especificado será retornado"
      ]
    },
    {
      "cell_type": "code",
      "metadata": {
        "id": "AK5FUAh-olNC",
        "outputId": "e1fc48f1-dca4-4ef4-87ac-3a0d0d32c7af"
      },
      "source": [
        "d.index('a')"
      ],
      "execution_count": null,
      "outputs": [
        {
          "output_type": "execute_result",
          "data": {
            "text/plain": [
              "1"
            ]
          },
          "metadata": {
            "tags": []
          },
          "execution_count": 63
        }
      ]
    },
    {
      "cell_type": "markdown",
      "metadata": {
        "id": "Cc-lDRFTolNG"
      },
      "source": [
        "##Conjuntos"
      ]
    },
    {
      "cell_type": "markdown",
      "metadata": {
        "id": "XvF_Vx2IolNH"
      },
      "source": [
        "\n",
        "Conjuntos são usados ​​principalmente para eliminar números repetidos em uma sequência / lista. Também é usado para executar algumas operações de conjunto padrão.\n",
        "\n",
        "Conjuntos são declarados como set (), que irá inicializar um conjunto vazio. Também set ([sequence]) pode ser executado para declarar um set com elementos"
      ]
    },
    {
      "cell_type": "code",
      "metadata": {
        "id": "GQKYeWV-olNI",
        "outputId": "3a2cc82e-4078-4edf-8f49-3b81a90eccbf"
      },
      "source": [
        "set1 = set()\n",
        "print type(set1)"
      ],
      "execution_count": null,
      "outputs": [
        {
          "output_type": "stream",
          "text": [
            "<type 'set'>\n"
          ],
          "name": "stdout"
        }
      ]
    },
    {
      "cell_type": "code",
      "metadata": {
        "id": "iyK-8vVQolNK",
        "outputId": "0a05d1d7-0121-42b0-9bb9-a5db9d2a259a"
      },
      "source": [
        "set0 = set([1,2,2,3,3,4])\n",
        "print set0"
      ],
      "execution_count": null,
      "outputs": [
        {
          "output_type": "stream",
          "text": [
            "set([1, 2, 3, 4])\n"
          ],
          "name": "stdout"
        }
      ]
    },
    {
      "cell_type": "markdown",
      "metadata": {
        "id": "bHdyy5wIolNN"
      },
      "source": [
        "elementos 2,3 que são repetidos duas vezes são vistos apenas uma vez. Assim, em um conjunto, cada elemento é distinto.\n"
      ]
    },
    {
      "cell_type": "markdown",
      "metadata": {
        "id": "EQ5j28vbolNN"
      },
      "source": [
        "###Funções para conjuntos"
      ]
    },
    {
      "cell_type": "code",
      "metadata": {
        "id": "eIi5CtftolNO"
      },
      "source": [
        "set1 = set([1,2,3])"
      ],
      "execution_count": null,
      "outputs": []
    },
    {
      "cell_type": "code",
      "metadata": {
        "id": "JfnHIH5wolNP"
      },
      "source": [
        "set2 = set([2,3,4,5])"
      ],
      "execution_count": null,
      "outputs": []
    },
    {
      "cell_type": "markdown",
      "metadata": {
        "id": "vtuxNbjMolNS"
      },
      "source": [
        "**union( )**  retorna um conjunto que contém todos os elementos de ambos os conjuntos sem repetição."
      ]
    },
    {
      "cell_type": "code",
      "metadata": {
        "id": "2-wR0YrPolNT",
        "outputId": "a70f8e09-1804-4b75-d906-a442318b3130"
      },
      "source": [
        "set1.union(set2)"
      ],
      "execution_count": null,
      "outputs": [
        {
          "output_type": "execute_result",
          "data": {
            "text/plain": [
              "{1, 2, 3, 4, 5}"
            ]
          },
          "metadata": {
            "tags": []
          },
          "execution_count": 68
        }
      ]
    },
    {
      "cell_type": "markdown",
      "metadata": {
        "id": "f1QG0vNXolNW"
      },
      "source": [
        "**add( )** irá adicionar um elemento particular no conjunto. Observe que o índice do elemento recém-adicionado é arbitrário e pode ser colocado em qualquer lugar, não necessariamente, no final."
      ]
    },
    {
      "cell_type": "code",
      "metadata": {
        "id": "bXJoCta8olNX",
        "outputId": "980b7a49-23e1-4df8-d450-f3f5ebc7e59f"
      },
      "source": [
        "set1.add(0)\n",
        "set1"
      ],
      "execution_count": null,
      "outputs": [
        {
          "output_type": "execute_result",
          "data": {
            "text/plain": [
              "{0, 1, 2, 3}"
            ]
          },
          "metadata": {
            "tags": []
          },
          "execution_count": 69
        }
      ]
    },
    {
      "cell_type": "markdown",
      "metadata": {
        "id": "XCeBTpiGolNa"
      },
      "source": [
        "**intersection( )** gera um conjunto que contém todos os elementos que estão em ambos os conjuntos."
      ]
    },
    {
      "cell_type": "code",
      "metadata": {
        "id": "J0I8SyOnolNa",
        "outputId": "3e50b1df-24e8-474a-f4a1-f8fa96f4105b"
      },
      "source": [
        "set1.intersection(set2)"
      ],
      "execution_count": null,
      "outputs": [
        {
          "output_type": "execute_result",
          "data": {
            "text/plain": [
              "{2, 3}"
            ]
          },
          "metadata": {
            "tags": []
          },
          "execution_count": 70
        }
      ]
    },
    {
      "cell_type": "markdown",
      "metadata": {
        "id": "REwxXuGrolNc"
      },
      "source": [
        "**difference( )** retorna um conjunto que contém elementos que estão no set1 e não no set2."
      ]
    },
    {
      "cell_type": "code",
      "metadata": {
        "id": "55xFmHy7olNd",
        "outputId": "6a30028a-d176-42d4-f1b9-104e97c18275"
      },
      "source": [
        "set1.difference(set2)"
      ],
      "execution_count": null,
      "outputs": [
        {
          "output_type": "execute_result",
          "data": {
            "text/plain": [
              "{0, 1}"
            ]
          },
          "metadata": {
            "tags": []
          },
          "execution_count": 71
        }
      ]
    },
    {
      "cell_type": "markdown",
      "metadata": {
        "id": "r7TK2Ha2olNh"
      },
      "source": [
        "**symmetric_difference( )**  retorna um conjunto com elementos que estão em um dos conjuntos."
      ]
    },
    {
      "cell_type": "code",
      "metadata": {
        "id": "Ya-0MXaXolNi",
        "outputId": "44b8cbdf-93fc-4f76-e965-108e4d9038c1"
      },
      "source": [
        "set2.symmetric_difference(set1)"
      ],
      "execution_count": null,
      "outputs": [
        {
          "output_type": "execute_result",
          "data": {
            "text/plain": [
              "{0, 1, 4, 5}"
            ]
          },
          "metadata": {
            "tags": []
          },
          "execution_count": 72
        }
      ]
    },
    {
      "cell_type": "markdown",
      "metadata": {
        "id": "dJAA8OndolNm"
      },
      "source": [
        "**issubset( ), isdisjoint( ), issuperset( )** usado para checar se set1/set2 é um subconjunto, disjunto, superconjunto de set2/set1 respectivamente."
      ]
    },
    {
      "cell_type": "code",
      "metadata": {
        "id": "X3rfyharolNn",
        "outputId": "804d3384-6114-45a8-adf9-b62021468889"
      },
      "source": [
        "set1.issubset(set2)"
      ],
      "execution_count": null,
      "outputs": [
        {
          "output_type": "execute_result",
          "data": {
            "text/plain": [
              "False"
            ]
          },
          "metadata": {
            "tags": []
          },
          "execution_count": 73
        }
      ]
    },
    {
      "cell_type": "code",
      "metadata": {
        "id": "6kpbg_6PolNr",
        "outputId": "f71efcea-4225-4fec-f977-0854c91039d5"
      },
      "source": [
        "set2.isdisjoint(set1)"
      ],
      "execution_count": null,
      "outputs": [
        {
          "output_type": "execute_result",
          "data": {
            "text/plain": [
              "False"
            ]
          },
          "metadata": {
            "tags": []
          },
          "execution_count": 74
        }
      ]
    },
    {
      "cell_type": "code",
      "metadata": {
        "id": "CMiPWT1JolNu",
        "outputId": "9e04f1d1-bc8a-4971-9957-397d606b64b6"
      },
      "source": [
        "set2.issuperset(set1)"
      ],
      "execution_count": null,
      "outputs": [
        {
          "output_type": "execute_result",
          "data": {
            "text/plain": [
              "False"
            ]
          },
          "metadata": {
            "tags": []
          },
          "execution_count": 75
        }
      ]
    },
    {
      "cell_type": "markdown",
      "metadata": {
        "id": "2neYgojQolNw"
      },
      "source": [
        "**pop( )** é usado para remover um elemento arbitrário no conjunto\n"
      ]
    },
    {
      "cell_type": "code",
      "metadata": {
        "id": "fJGFN8PmolNx",
        "outputId": "b6052e41-fcba-4555-a4e0-f53b554b5af3"
      },
      "source": [
        "set1.pop()\n",
        "print set1"
      ],
      "execution_count": null,
      "outputs": [
        {
          "output_type": "stream",
          "text": [
            "set([1, 2, 3])\n"
          ],
          "name": "stdout"
        }
      ]
    },
    {
      "cell_type": "markdown",
      "metadata": {
        "id": "VUvsZ2bqolNz"
      },
      "source": [
        "**remove( )** remove o elemento especificado do conjunto."
      ]
    },
    {
      "cell_type": "code",
      "metadata": {
        "id": "9aJxRec3olN0",
        "outputId": "5e9c9d11-4776-4b0b-b9db-8b50aa2c5360"
      },
      "source": [
        "set1.remove(2)\n",
        "set1"
      ],
      "execution_count": null,
      "outputs": [
        {
          "output_type": "execute_result",
          "data": {
            "text/plain": [
              "{1, 3}"
            ]
          },
          "metadata": {
            "tags": []
          },
          "execution_count": 77
        }
      ]
    },
    {
      "cell_type": "markdown",
      "metadata": {
        "id": "EZR2cgjGolN2"
      },
      "source": [
        "**clear( )** apaga todos os elementos e o conjunto fica vazio."
      ]
    },
    {
      "cell_type": "code",
      "metadata": {
        "id": "06lQacW3olN2",
        "outputId": "b8b66994-613b-4ce3-8c5a-1f7f29ea4b34"
      },
      "source": [
        "set1.clear()\n",
        "set1"
      ],
      "execution_count": null,
      "outputs": [
        {
          "output_type": "execute_result",
          "data": {
            "text/plain": [
              "set()"
            ]
          },
          "metadata": {
            "tags": []
          },
          "execution_count": 78
        }
      ]
    }
  ]
}