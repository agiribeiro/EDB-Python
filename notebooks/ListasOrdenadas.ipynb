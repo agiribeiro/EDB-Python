{
  "cells": [
    {
      "cell_type": "markdown",
      "metadata": {
        "id": "teNuTfzY4fvh"
      },
      "source": [
        "# Listas ordenadas automaticamente\n",
        "\n",
        "## Entendendo o que é\n",
        "A lista ordenada automaticamente é extremamente útil quando queremos resolver problemas onde a ordem dos nossos elementos da lista importa. Ela nos garante que os elementos estarão ordenados, mesmo após feitas quaisquer operações em nossa lista.\n",
        "\n",
        "A resolução de problemas que envolvem esse tipo de questão, se torna mais eficiente quando utilizamos listas ordenadas, diminuindo o tempo de implementação do código e facilitando a leitura do mesmo. Afinal, você já deve ter tido a experiência de ordenar uma lista de forma manual; quantos loops e condicionais foram criados não é mesmo? **Em suma, quando sua lista precisar de uma ordenação, use uma lista ordenada automaticamente, pois a ordem dos elementos nunca será alterada!!**\n",
        "\n",
        "Para utilizar listas ordenadas em Python, incluimos uma biblioteca chamada \"sortedcontainers\". Ela nos fornecerá a classe `SortedList`, que criará nossas listas ordenadas. Em Python, a lista ordenada também mantém os dados em ordem crescente como padrão. Além disso, ela aceita elementos duplicados e fornece fácil acesso e indexação dos mesmos.\n"
      ]
    },
    {
      "cell_type": "markdown",
      "metadata": {
        "id": "ghJ3uYx35Odp"
      },
      "source": [
        "## Primeiros passos\n"
      ]
    },
    {
      "cell_type": "markdown",
      "metadata": {
        "id": "56gw2f7tB9n8"
      },
      "source": [
        "O primeiro passo é instalar a biblioteca que contém a classe `SortedList`:\n",
        "\n",
        "> O símbolo de exclamação no começo de uma célula de código diz para o Jupyter executar o código no terminal 👍🏻"
      ]
    },
    {
      "cell_type": "code",
      "execution_count": null,
      "metadata": {
        "id": "PRObXPzbAFXm"
      },
      "outputs": [],
      "source": [
        "!python3 -m pip install sortedcontainers"
      ]
    },
    {
      "cell_type": "markdown",
      "metadata": {
        "id": "dLBtvey1RCxu"
      },
      "source": [
        "Ótimo! Agora já podemos criar nossa Lista Ordenada:\n"
      ]
    },
    {
      "cell_type": "code",
      "execution_count": null,
      "metadata": {
        "id": "BK8BAh0nRVs0"
      },
      "outputs": [],
      "source": [
        "from sortedcontainers import SortedList\n",
        "sl = SortedList()\n",
        "\n",
        "print(sl)"
      ]
    },
    {
      "cell_type": "markdown",
      "metadata": {
        "id": "sESsFtumU4oy"
      },
      "source": [
        "Parabéns, você acabou de criar sua primeira lista!\n",
        "\n",
        "Mas caso você queira iniciar a SortedList já com valores, também é possivel:"
      ]
    },
    {
      "cell_type": "code",
      "execution_count": null,
      "metadata": {
        "id": "Z7ElHbg8AIIk"
      },
      "outputs": [],
      "source": [
        "sl_1 = SortedList([3, 1, 1, 1, 2, 2, 5, 4])\n",
        "print(sl_1)"
      ]
    },
    {
      "cell_type": "markdown",
      "metadata": {
        "id": "Pk2EybaIyolN"
      },
      "source": [
        "Perceba que uma está vazia e outra preenchida , no próximo tópico iremos aprender como manipular nossa lista."
      ]
    },
    {
      "cell_type": "markdown",
      "metadata": {
        "id": "ixIQOx0R6BKr"
      },
      "source": [
        "# Manipulando uma lista ordenada automaticamente"
      ]
    },
    {
      "cell_type": "markdown",
      "metadata": {
        "id": "PGyWkY2Yszh2"
      },
      "source": [
        "### Pertinência"
      ]
    },
    {
      "cell_type": "markdown",
      "metadata": {
        "id": "VL86IDzJtG4m"
      },
      "source": [
        "De forma semelhante ao `set`, na `SortedList` também podemos ver se um elemento pertence a ela:"
      ]
    },
    {
      "cell_type": "code",
      "execution_count": null,
      "metadata": {
        "id": "SWt2uQaKs_D3"
      },
      "outputs": [],
      "source": [
        "3 in sl_1"
      ]
    },
    {
      "cell_type": "code",
      "execution_count": null,
      "metadata": {
        "id": "FZEB7T4iubJi"
      },
      "outputs": [],
      "source": [
        "10 in sl_1"
      ]
    },
    {
      "cell_type": "markdown",
      "metadata": {
        "id": "MTqfeapxqbLk"
      },
      "source": [
        "> Buscar em uma lista ordenada automaticamente é mais eficiente que buscar em uma lista ordenada manualmente, mas ainda é menos eficiente que buscar em um conjunto 👍🏻"
      ]
    },
    {
      "cell_type": "markdown",
      "metadata": {
        "id": "ItjXcr07_K4N"
      },
      "source": [
        "## Adicionando elementos"
      ]
    },
    {
      "cell_type": "markdown",
      "metadata": {
        "id": "zbWDv2_BdGvs"
      },
      "source": [
        "Podemos adicionar elementos de duas maneiras.\n",
        "\n",
        "#### `add()`\n",
        "\n",
        "A primeira é o método `add()`, que recebe como parâmetro somente um argumento.\n",
        "\n",
        "Ou seja, você somente pode colocar um valor para ser adicionado a lista ordenada:"
      ]
    },
    {
      "cell_type": "code",
      "execution_count": null,
      "metadata": {
        "id": "s2jX_HVX_NjX"
      },
      "outputs": [],
      "source": [
        "sl.add(1)\n",
        "print(sl)"
      ]
    },
    {
      "cell_type": "markdown",
      "metadata": {
        "id": "ekcsYf8fekTO"
      },
      "source": [
        "#### `update()`\n",
        "\n",
        "Também podemos adicionar com o método `update()`, com a qual que podemos colocar varios valores:"
      ]
    },
    {
      "cell_type": "code",
      "execution_count": null,
      "metadata": {
        "id": "2FO9yDCYeiD7"
      },
      "outputs": [],
      "source": [
        "sl.update([2,3,4,5,6])\n",
        "print(sl)"
      ]
    },
    {
      "cell_type": "markdown",
      "metadata": {
        "id": "vmO2RXNrP2vx"
      },
      "source": [
        "E se adicionarmos um elemento já existente na lista, o que acontece?"
      ]
    },
    {
      "cell_type": "code",
      "execution_count": null,
      "metadata": {
        "id": "sqcd-7R4PmkH"
      },
      "outputs": [],
      "source": [
        "sl.add(2)\n",
        "print(sl)"
      ]
    },
    {
      "cell_type": "markdown",
      "metadata": {
        "id": "iggh71GNQCKw"
      },
      "source": [
        "Note que agora temos dois '2'. Diferente do `set()`, a `SortedList` permite a repetição de elementos."
      ]
    },
    {
      "cell_type": "markdown",
      "metadata": {
        "id": "7ZhkxMoD_Qqs"
      },
      "source": [
        "## Removendo elementos"
      ]
    },
    {
      "cell_type": "markdown",
      "metadata": {
        "id": "R9mZN5zTY5t8"
      },
      "source": [
        "Existem várias maneiras de remover elementos:\n",
        "\n",
        "#### `discard()`\n",
        "\n",
        "Passamos apenas um parâmetro. Se não existir esse valor que você tentou apagar, ele não reporta nada."
      ]
    },
    {
      "cell_type": "code",
      "execution_count": null,
      "metadata": {
        "id": "QQoqTa8m_UzG"
      },
      "outputs": [],
      "source": [
        "sl.discard(2)\n",
        "print(sl)"
      ]
    },
    {
      "cell_type": "markdown",
      "metadata": {
        "id": "XnoKXfeqnMEp"
      },
      "source": [
        "#### `remove()`\n",
        "\n",
        "Passamos apenas um parâmetro. Se não existir esse valor que você tentou apagar, ele reporta um `ValueError`."
      ]
    },
    {
      "cell_type": "code",
      "execution_count": null,
      "metadata": {
        "id": "oHwpHGmrnLw6"
      },
      "outputs": [],
      "source": [
        "sl.remove(256)\n",
        "print(sl)"
      ]
    },
    {
      "cell_type": "markdown",
      "metadata": {
        "id": "hurEGMIyCYn6"
      },
      "source": [
        "#### pop()\n",
        "\n",
        "É possivel remover elementos de acordo com o seu índice, mas a maneira de utilizar cada uma essas funções é um pouco diferente."
      ]
    },
    {
      "cell_type": "code",
      "execution_count": null,
      "metadata": {
        "id": "5QrNUni3DLPJ"
      },
      "outputs": [],
      "source": [
        "sl.update([1,2,3,4,5])\n",
        "print(\"Lista antes de remover o primeiro indice: {}\".format(sl))\n",
        "sl.pop(0)\n",
        "print(\"Lista depois de remover o primeiro indice: {}\".format(sl))"
      ]
    },
    {
      "cell_type": "markdown",
      "metadata": {
        "id": "mqRieOir8xR-"
      },
      "source": [
        "#### `clear()`\n",
        "\n",
        "Remove todos os valores da lista ordenada."
      ]
    },
    {
      "cell_type": "code",
      "execution_count": null,
      "metadata": {
        "id": "6g28iaDM8w8V"
      },
      "outputs": [],
      "source": [
        "sl.clear()\n",
        "print(sl)"
      ]
    },
    {
      "cell_type": "markdown",
      "metadata": {
        "id": "LSPHl9Cw_Yg0"
      },
      "source": [
        "## Estudando os elementos"
      ]
    },
    {
      "cell_type": "markdown",
      "metadata": {
        "id": "2LdHf5C6Ogpp"
      },
      "source": [
        "Agora que aprendemos a primeira parte da manipulação de uma `SortedList`, vamos dar continuidade ao aprendizado com algumas funções extremamente úteis.\n",
        "\n",
        "Suponha que ao fazer seus devidos `add`'s e `remove`'s, você queira ver quantas vezes tal elemento apareceu. Imagine fazendo isso com vários \"for\" e variáveis/vetores, uma confusão não é? Mas com o método `count()`,  é muito fácil!"
      ]
    },
    {
      "cell_type": "code",
      "execution_count": null,
      "metadata": {
        "id": "MAMkfi_w_cjd"
      },
      "outputs": [],
      "source": [
        "print(sl_1)\n",
        "print(sl_1.count(1))\n",
        "print(sl_1.count(2))"
      ]
    },
    {
      "cell_type": "markdown",
      "metadata": {
        "id": "rzATwhiTXk9R"
      },
      "source": [
        "Beleza, nós já sabemos contar os elementos repetidos. Mas e se precisarmos saber onde o elemento está, ou melhor, seu índice? Em Python, esse problema pode ser resolvido  com o método `index()`.\n",
        "\n",
        "Essa função ainda pode receber os parâmetros para procurar do índice N ao índice M (por padrão o N é o começo da lista, e o M o final). A assinatura do método `index` é `index(valor, índice_início, índice_fim)`.\n",
        "\n",
        "Curiosidade, se o valor não está na lista é relatado uma mensagem de erro, e a função retorna o primeiro índice da ocorrência."
      ]
    },
    {
      "cell_type": "code",
      "execution_count": null,
      "metadata": {
        "id": "f-Zj2yR_ZO74"
      },
      "outputs": [],
      "source": [
        "print(sl_1.index(2))"
      ]
    },
    {
      "cell_type": "code",
      "execution_count": null,
      "metadata": {
        "id": "z_zJ0H5rbVfz"
      },
      "outputs": [],
      "source": [
        "print(sl_1.index(2, 5))"
      ]
    },
    {
      "cell_type": "markdown",
      "metadata": {
        "id": "_L5uZSeKc5Tp"
      },
      "source": [
        "Podemos também \"pegar\" o conteúdo da `SortedList` pelo índice, parecido como usamos em vetores:"
      ]
    },
    {
      "cell_type": "code",
      "execution_count": null,
      "metadata": {
        "id": "P4eJ7mkedJim"
      },
      "outputs": [],
      "source": [
        "print(sl_1[3])"
      ]
    },
    {
      "cell_type": "markdown",
      "metadata": {
        "id": "ImnSTJlmGvrm"
      },
      "source": [
        "#### Exercício de fixação"
      ]
    },
    {
      "cell_type": "markdown",
      "metadata": {
        "id": "oqJKjx91G9LH"
      },
      "source": [
        "Exercícios desse topico\n"
      ]
    },
    {
      "cell_type": "markdown",
      "metadata": {
        "id": "VLnCEYrTzjuK"
      },
      "source": [
        "## Iterando a `SortedList`"
      ]
    },
    {
      "cell_type": "markdown",
      "metadata": {
        "id": "khEVSX10ES6j"
      },
      "source": [
        "Você pode iterar a `SortedList` com um `for`:"
      ]
    },
    {
      "cell_type": "code",
      "execution_count": null,
      "metadata": {
        "id": "ftrEfclVzztW"
      },
      "outputs": [],
      "source": [
        "for j in sl:\n",
        "  print(j)\n",
        "print(sl)"
      ]
    },
    {
      "cell_type": "markdown",
      "metadata": {
        "id": "QJXMVdj8Jamn"
      },
      "source": [
        "Podemos também iterar somente por um intervalo:"
      ]
    },
    {
      "cell_type": "code",
      "execution_count": null,
      "metadata": {
        "id": "AFjCLYaIJgqQ"
      },
      "outputs": [],
      "source": [
        "for j in sl.irange(3,5):\n",
        "  print(j)"
      ]
    },
    {
      "cell_type": "markdown",
      "metadata": {
        "id": "IUe1t7WoKGuz"
      },
      "source": [
        "Ou usando o `islice()`, que ao invés de iterar pelo intervalo dos dados, como o `irange()`, utiliza o intervalo dos índices passados como parâmetro:"
      ]
    },
    {
      "cell_type": "code",
      "execution_count": null,
      "metadata": {
        "id": "mH0LaJJ1L2nv"
      },
      "outputs": [],
      "source": [
        "a = SortedList(['b', '3', 't', 'r', 'd'])\n",
        "for k in a.islice(2,4):\n",
        "  print(k)"
      ]
    },
    {
      "cell_type": "markdown",
      "metadata": {
        "id": "x5p48B80NdIM"
      },
      "source": [
        "Ou"
      ]
    },
    {
      "cell_type": "code",
      "execution_count": null,
      "metadata": {
        "id": "ieXi9IidNfzL"
      },
      "outputs": [],
      "source": [
        "print(a[2:4])"
      ]
    },
    {
      "cell_type": "markdown",
      "metadata": {
        "id": "5NeT_WPw_dm1"
      },
      "source": [
        "## Pesquisa binária"
      ]
    },
    {
      "cell_type": "markdown",
      "metadata": {
        "id": "2C4wUuaHQFSo"
      },
      "source": [
        "Agora, depois de estudarmos itens básicos, vamos introduzir um conceito que casa perfeitamente com a função da `SortedList`. Pesquisa ou busca binária é um algoritmo de busca em vetores que realiza sucessivas divisões do espaço de busca comparando o elemento buscado (chave) com o elemento no meio do vetor. Para utilizarmos essa técnica, é necessário que o vetor esteja ordenada. Nada melhor que a `SortedList` para isso!\n",
        "\n",
        "Para os curiosos e entusiastas, a busca binária funciona da seguinte maneira: se o elemento do meio do vetor for a chave, a busca termina com sucesso. Caso contrário, se o elemento do meio for menor que o elemento buscado, então a busca continua na metade posterior do vetor. E finalmente, se o elemento do meio for maior do que a chave, a busca continua na metade anterior do vetor.\n",
        "\n",
        "A complexidade desse algoritmo é da ordem de log2 (n) é o tamanho do vetor de busca. Apresenta-se mais eficiente que a Busca linear cuja ordem é O(n)."
      ]
    },
    {
      "cell_type": "markdown",
      "metadata": {
        "id": "dI_R_5jCYFVk"
      },
      "source": [
        "### Desafio"
      ]
    },
    {
      "cell_type": "markdown",
      "metadata": {
        "id": "0WKhejnMYNOF"
      },
      "source": [
        "Para aqueles que se interessaram, propomos um desafio para vocês!\n",
        "Desenvolva uma função em python que faça uma busca binária em uma `SortedList` e que diga a posição em que um elemento `N` está na `SortedList`. Para isso, aplique os conceitos que vimos.\n",
        "\n",
        "\n",
        "Regras:\n",
        "\n",
        "*   O vetor deve ter 100 elementos gerados por uma função aleatória podendo assumir valores de 0 a 1000\n",
        "*   Não utilizar (obviamente) a busca linear\n",
        "*   A função deve informar caso o número informado não esteja na lista\n",
        "\n",
        "\n"
      ]
    },
    {
      "cell_type": "code",
      "execution_count": null,
      "metadata": {
        "id": "MrcP86zm_hv-"
      },
      "outputs": [],
      "source": []
    },
    {
      "cell_type": "markdown",
      "metadata": {
        "id": "hENZ66Ooa1T7"
      },
      "source": [
        "Você pode testar se realmente a busca binária é eficiente. Rode a função acima com o utilitário \"time\" no terminal do linux ou  %time aqui no colab, depois, faça um algoritmo de busca em e compare o runtime de cada um!\n",
        "\n",
        "> Caso queiram conhecer mais sobre o assunto, acessem https://pt.khanacademy.org/computing/computer-science/algorithms/binary-search/a/binary-search\n"
      ]
    },
    {
      "cell_type": "markdown",
      "metadata": {
        "id": "ZHc0KKDo_l6w"
      },
      "source": [
        "## Operações com listas ordenadas"
      ]
    },
    {
      "cell_type": "markdown",
      "metadata": {
        "id": "VMQgB2vscPRu"
      },
      "source": [
        "Também é possivel usar os operadores `+` e `*` com a `SortedList`:\n",
        "\n",
        "#### União com o operador `+`\n",
        "\n",
        "Realiza a união de duas listas ordenadas automaticamente. Diferentemente de conjuntos, esta união preserva elementos duplicados:  "
      ]
    },
    {
      "cell_type": "code",
      "execution_count": null,
      "metadata": {
        "id": "2ysdO0Br_p1n"
      },
      "outputs": [],
      "source": [
        "sl.clear()\n",
        "\n",
        "sl = SortedList([1,2,3,4,5])\n",
        "sl2 = SortedList([5,6,7,8,9])\n",
        "\n",
        "print(\"lista1 -> {}\".format(sl))\n",
        "print(\"lista2 -> {}\".format(sl2))\n",
        "\n",
        "print(\"Soma das duas listas -> {}\".format(sl + sl2))"
      ]
    },
    {
      "cell_type": "markdown",
      "metadata": {
        "id": "gfCPVGcUe8Ns"
      },
      "source": [
        "#### Repetição de elementos com o operador `*`\n",
        "\n",
        "Repete os elementos da lista `n` vezes:"
      ]
    },
    {
      "cell_type": "code",
      "execution_count": null,
      "metadata": {
        "id": "Gh9DoGUue7TE"
      },
      "outputs": [],
      "source": [
        "print(\"lista antes da multiplicação -> {}\".format(sl))\n",
        "mult = sl * 3\n",
        "print(\"lista depois da multiplicação -> {}\".format(mult))"
      ]
    },
    {
      "cell_type": "markdown",
      "metadata": {
        "id": "aZ2D9apN_sm9"
      },
      "source": [
        "# Exercícios\n",
        "\n",
        "Agora que você já está craque em listas ordenadas, chegou a hora de práticar!"
      ]
    },
    {
      "cell_type": "markdown",
      "metadata": {
        "id": "12cvqUtBAh4X"
      },
      "source": [
        "\n",
        "1 - Crie um programa que faça uma lista de números e retorne a lista e o maior valor da mesma\n",
        "\n",
        "Exemplo:\n",
        "\n",
        "Entrada:([1,2,5,23,6,3,6,87])\n",
        "\n",
        "Saída: 87"
      ]
    },
    {
      "cell_type": "code",
      "execution_count": null,
      "metadata": {
        "id": "12VS_otgAkCF"
      },
      "outputs": [],
      "source": []
    },
    {
      "cell_type": "markdown",
      "metadata": {
        "id": "Mr02hxxgyJnQ"
      },
      "source": [
        " 2 - Crie uma função que recebe duas strings do usuário e que diga se são anagramas ou não. Utilize SortedList() para tal. Pense um pouquinho e verás que é extremamente trivial!\n",
        "\n",
        "Ex:\n",
        "\n",
        "    Entrada - \"roma\", \"amor\"\n",
        "    Saída - \"São anagramas\"\n",
        "\n",
        "\tEntrada - \"topa\", \"pato\"\n",
        "\tSaída - \"São anagramas\"\n",
        "\n",
        "\tEntrada - \"sol\", \"lua\"\n",
        "\tSaída - \"Não são anagramas\""
      ]
    },
    {
      "cell_type": "code",
      "execution_count": null,
      "metadata": {
        "id": "HFJWmkV7yV3B"
      },
      "outputs": [],
      "source": []
    },
    {
      "cell_type": "markdown",
      "metadata": {
        "id": "LLLXcHPOMGQ-"
      },
      "source": [
        "3 - Dado a lista ordenada [5, 3, 7, 9, 17, 13, 15, 11, 19], faça um programa que peça ao usuário para digitar um valor que deve ser a soma entre 2 valores dessa lista (dois valores diferentes). O programa deve percorrer os valores da lista e caso exista a soma, o mesmo deve exibir a soma, caso não exista deve informar que não existe soma entre os valores da lista igual ao valor informado.\n",
        "Ex:\n",
        "\tEntrada 30\n",
        "\tSaída 11 + 19 = 30\n",
        "\n",
        "\tEntrada 20\n",
        "\tSaída 9 + 11 = 20\n",
        "\n",
        "\tEntrada -1\n",
        "\tSaída \"Não existe soma entre os valores da lista que seja igual a -1\"\n",
        "\n",
        "\tEntrada 40\n",
        "\tSaída \"Não existe soma entre os valores da lista que seja igual a 40\""
      ]
    },
    {
      "cell_type": "code",
      "execution_count": null,
      "metadata": {
        "id": "LuEfwVQjNnBI"
      },
      "outputs": [],
      "source": []
    },
    {
      "cell_type": "markdown",
      "metadata": {
        "id": "-AaGXERUHGgd"
      },
      "source": [
        "4 - Desenvolva um programa que mostre quais as três palavras mais frequentes em um texto. A entrada deve ser um texto e o programa deverá exibir uma lista em ordem descrescente das palavras mais utilizadas no texto."
      ]
    },
    {
      "cell_type": "code",
      "execution_count": null,
      "metadata": {
        "id": "k6FUjKeRqbLt"
      },
      "outputs": [],
      "source": []
    }
  ],
  "metadata": {
    "colab": {
      "name": "Notebook 4.ipynb",
      "provenance": [],
      "toc_visible": true
    },
    "kernelspec": {
      "display_name": "Python 3",
      "language": "python",
      "name": "python3"
    },
    "language_info": {
      "codemirror_mode": {
        "name": "ipython",
        "version": 3
      },
      "file_extension": ".py",
      "mimetype": "text/x-python",
      "name": "python",
      "nbconvert_exporter": "python",
      "pygments_lexer": "ipython3",
      "version": "3.6.8"
    }
  },
  "nbformat": 4,
  "nbformat_minor": 0
}