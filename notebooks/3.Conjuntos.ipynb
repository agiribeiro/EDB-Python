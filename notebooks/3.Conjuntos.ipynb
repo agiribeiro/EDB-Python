{
  "cells": [
    {
      "cell_type": "markdown",
      "metadata": {
        "id": "view-in-github",
        "colab_type": "text"
      },
      "source": [
        "<a href=\"https://colab.research.google.com/github/agiribeiro/EDB1/blob/master/notebooks/set.ipynb\" target=\"_parent\"><img src=\"https://colab.research.google.com/assets/colab-badge.svg\" alt=\"Open In Colab\"/></a>"
      ]
    },
    {
      "cell_type": "markdown",
      "metadata": {
        "id": "ilOE4mE2F1E1"
      },
      "source": [
        "# Conjuntos"
      ]
    },
    {
      "cell_type": "markdown",
      "metadata": {
        "id": "xLuXhXixIRB7"
      },
      "source": [
        "Uma pesquisa foi realizada com os alunos de uma turma de Tecnologia da Informação, perguntando quais idiomas cada aluno falava, dentre inglês, espanhol, francês e alemão.\n",
        "\n",
        "Com os resultados coletados, deseja-se saber quantos alunos falam somente um idioma. Considerando que a turma tinha apenas 30 alunos, talvez fosse fácil alcançar tal objetivo.\n",
        "\n",
        "Agora, suponha que essa mesma pesquisa fosse aplicada para todos os alunos da UFRN? E se considerássemos todos os campi da UFRN?\n",
        "\n",
        "É aí que entram os conjuntos!\n",
        "\n",
        "Os conjuntos são tipos abstratos de dados (equivalente aos conjuntos matemáticos) que manipulam coleções de elementos únicos, não ordenados e imutáveis."
      ]
    },
    {
      "cell_type": "markdown",
      "metadata": {
        "id": "oaRQcnnIF_ij"
      },
      "source": [
        "## Primeiros passos"
      ]
    },
    {
      "cell_type": "markdown",
      "metadata": {
        "id": "ND1SNBnpIwLt"
      },
      "source": [
        "Em Python, um conjunto pode ser criado já com seus elementos declarados, dentro de chaves {} e separando-os por vírgulas.\n",
        "\n",
        "Também é possível criar um conjunto vazio, com a função construtora ```set()```:"
      ]
    },
    {
      "cell_type": "code",
      "execution_count": null,
      "metadata": {
        "id": "oi9nn22uIzjb"
      },
      "outputs": [],
      "source": [
        "meu_conjunto = {1, 2, 3, 4, 5}\n",
        "conjunto_vazio = set()\n",
        "\n",
        "print(meu_conjunto)\n",
        "print(conjunto_vazio)"
      ]
    },
    {
      "cell_type": "markdown",
      "metadata": {
        "id": "EhoNN5CHJp01"
      },
      "source": [
        "Um conjunto pode ter elementos de diferentes tipos:"
      ]
    },
    {
      "cell_type": "code",
      "execution_count": null,
      "metadata": {
        "id": "9pyi5-BDJtbW"
      },
      "outputs": [],
      "source": [
        "meu_conjunto = {1, 3.3, 'a', 'palavra'}\n",
        "print(meu_conjunto)"
      ]
    },
    {
      "cell_type": "markdown",
      "metadata": {
        "id": "LXrM-DDVKEhx"
      },
      "source": [
        "Além disso, um conjunto pode ser criado com a função construtora ```set()``` tendo como parâmetro um tipo iterável de dados (string, lista, dicionário, tuplas, etc...).\n",
        "\n",
        "Nesse caso, o conjunto formado possui os elementos únicos do tipo iterávels fornecido como parâmetro:"
      ]
    },
    {
      "cell_type": "code",
      "execution_count": null,
      "metadata": {
        "id": "kSvywhQAKQjz"
      },
      "outputs": [],
      "source": [
        "meu_conjunto = set('Hello,world')\n",
        "print(meu_conjunto)"
      ]
    },
    {
      "cell_type": "markdown",
      "metadata": {
        "id": "TU5b62iznrja"
      },
      "source": [
        "### Iterando sobre seus elementos"
      ]
    },
    {
      "cell_type": "markdown",
      "metadata": {
        "id": "_WPMWMcwnrja"
      },
      "source": [
        "Você pode iterar sobre os elementos de um conjunto usando um `for`:"
      ]
    },
    {
      "cell_type": "code",
      "execution_count": null,
      "metadata": {
        "id": "HKRpsut7nrja"
      },
      "outputs": [],
      "source": [
        "for x in meu_conjunto:\n",
        " print(x)"
      ]
    },
    {
      "cell_type": "markdown",
      "metadata": {
        "id": "gllagT5Enrja"
      },
      "source": [
        "Como não há preservação de ordem dos elementos de um `set`, você não pode acessar seus elementos por índices ou confiar em qual ordem eles estarão:"
      ]
    },
    {
      "cell_type": "code",
      "execution_count": null,
      "metadata": {
        "id": "14BkrCJ4nrja"
      },
      "outputs": [],
      "source": [
        "meu_conjunto[0]"
      ]
    },
    {
      "cell_type": "markdown",
      "metadata": {
        "id": "sO4uG468TeYY"
      },
      "source": [
        "#### Exercícios w3r - [w3resource list](https://www.w3resource.com/python-exercises/python-functions-exercises.php)"
      ]
    },
    {
      "cell_type": "markdown",
      "metadata": {
        "id": "1jkEksPIU02F"
      },
      "source": [
        "1 -  Escreva um procedimento que determine o maior número dentro de um conjunto de 7 números."
      ]
    },
    {
      "cell_type": "code",
      "execution_count": null,
      "metadata": {
        "id": "P5mpbHUnVQok"
      },
      "outputs": [],
      "source": []
    },
    {
      "cell_type": "markdown",
      "metadata": {
        "id": "roGVGDLhVubL"
      },
      "source": [
        "2 - Escreva um procedimento que some todos os elementos de um conjunto."
      ]
    },
    {
      "cell_type": "code",
      "execution_count": null,
      "metadata": {
        "id": "h4V_VlBtV13T"
      },
      "outputs": [],
      "source": []
    },
    {
      "cell_type": "markdown",
      "metadata": {
        "id": "R7DdPaF8V2ny"
      },
      "source": [
        "3 - Escreva um procedimento que multiplique todos os elementos de um conjunto."
      ]
    },
    {
      "cell_type": "code",
      "execution_count": null,
      "metadata": {
        "id": "qqFFRCjGnrjb"
      },
      "outputs": [],
      "source": []
    },
    {
      "cell_type": "markdown",
      "metadata": {
        "id": "OBFh7pTZnrjb"
      },
      "source": [
        "> Como os exercícios acima são bem comuns no dia-a-dia, Python tem procedimentos-padrão para resolvê-los. Pesquise sobre eles e veja como fica bem mais simples de resolver essas questões 👍🏻"
      ]
    },
    {
      "cell_type": "markdown",
      "metadata": {
        "id": "y38humahGCyX"
      },
      "source": [
        "## Como usar o `set`"
      ]
    },
    {
      "cell_type": "markdown",
      "metadata": {
        "id": "MPksi_HuLOKV"
      },
      "source": [
        "### Adição e remoção de elementos\n",
        "\n",
        "Depois de ser criado, um conjunto pode ser modificado, tendo elementos adicionados ou removidos dele.\n",
        "\n",
        "Para adicionar um elemento, utiliza-se o método ```add()```.\n",
        "\n",
        "> Confira na sessão de **Extras** os comandos `update` para adição de múltiplos elementos."
      ]
    },
    {
      "cell_type": "code",
      "execution_count": null,
      "metadata": {
        "id": "4rRjt12NLQjF"
      },
      "outputs": [],
      "source": [
        "meu_conjunto = {1, 2, 3}\n",
        "meu_conjunto.add(4)\n",
        "print(meu_conjunto)"
      ]
    },
    {
      "cell_type": "markdown",
      "metadata": {
        "id": "AEfOVzgmLel7"
      },
      "source": [
        "Já para remover, tem-se o método ```remove()```, que elimina do conjunto o elemento passado como parâmetro:"
      ]
    },
    {
      "cell_type": "code",
      "execution_count": null,
      "metadata": {
        "id": "zuRXcU69LoLI"
      },
      "outputs": [],
      "source": [
        "meu_conjunto = {1, 2, 3}\n",
        "meu_conjunto.remove(3)\n",
        "print(meu_conjunto)"
      ]
    },
    {
      "cell_type": "markdown",
      "metadata": {
        "id": "aQ69iaVnL8xR"
      },
      "source": [
        "E, se por algum motivo, o usuário tentar remover um elemento que não existe no conjunto?"
      ]
    },
    {
      "cell_type": "code",
      "execution_count": null,
      "metadata": {
        "id": "PqpKn982L9nt"
      },
      "outputs": [],
      "source": [
        "meu_conjunto = {1, 2, 3}\n",
        "meu_conjunto.remove(4)\n",
        "print(meu_conjunto)"
      ]
    },
    {
      "cell_type": "markdown",
      "metadata": {
        "id": "kvUgGNk2MEn5"
      },
      "source": [
        "Você recebeu o erro `KeyError`, justamente porque o `remove()` só remove elementos que fazem parte do conjunto.\n",
        "\n",
        "Para essa situação, existe o método `discard()`, que tenta remover um elemento sem disparar erros caso ele não exista."
      ]
    },
    {
      "cell_type": "code",
      "execution_count": null,
      "metadata": {
        "id": "e5zb9PrhMbIz"
      },
      "outputs": [],
      "source": [
        "meu_conjunto = {1, 2, 3}\n",
        "meu_conjunto.discard(2)\n",
        "print(meu_conjunto)\n",
        "meu_conjunto.discard(4)\n",
        "print(meu_conjunto)"
      ]
    },
    {
      "cell_type": "markdown",
      "metadata": {
        "id": "YM2I76jGMmgU"
      },
      "source": [
        "Também existe o método `clear()`, que remove todos os elementos do conjunto:"
      ]
    },
    {
      "cell_type": "code",
      "execution_count": null,
      "metadata": {
        "id": "GJN1pENNMoC9"
      },
      "outputs": [],
      "source": [
        "meu_conjunto = {1, 2, 3}\n",
        "print(meu_conjunto)\n",
        "meu_conjunto.clear()\n",
        "print(meu_conjunto)"
      ]
    },
    {
      "cell_type": "markdown",
      "metadata": {
        "id": "_rqm_nCuNHR7"
      },
      "source": [
        "### Cardinalidade\n",
        "\n",
        "O número de elementos de um conjunto pode ser calculado com o procedimento `len()`:"
      ]
    },
    {
      "cell_type": "code",
      "execution_count": null,
      "metadata": {
        "id": "dWl_Bzd6NJgW"
      },
      "outputs": [],
      "source": [
        "meu_conjunto = {1, 2, 3}\n",
        "print (len(meu_conjunto))"
      ]
    },
    {
      "cell_type": "markdown",
      "metadata": {
        "id": "5r_4F-SzHlWC"
      },
      "source": [
        "### União\n",
        "\n",
        "Assim como na matemática, a união de `sets` concatena os elementos dos conjuntos em questão em um só.\n",
        "\n",
        "Em Python, a operação é realizada através do método `union()` ou do operador `|`.\n",
        "\n",
        "> A união de conjuntos significa literalmente identificar os elementos presentes em um conjunto **ou** no outro. É por isso que podemos usar o operador lógico `|` 🙃\n",
        "\n",
        "No exemplo abaixo, temos dois conjuntos distintos `a` e `b` que desejamos unir:"
      ]
    },
    {
      "cell_type": "code",
      "execution_count": null,
      "metadata": {
        "id": "SGT6bQNbHudf"
      },
      "outputs": [],
      "source": [
        "a = {1, 2, 3, 4}\n",
        "b = {3, 4, 5, 6}\n",
        "\n",
        "# operando com union()\n",
        "print(a.union(b))\n",
        "\n",
        "# operando com |\n",
        "print(a | b)"
      ]
    },
    {
      "cell_type": "markdown",
      "metadata": {
        "id": "tJkYrP_QISog"
      },
      "source": [
        "### Intersecção\n",
        "\n",
        "Fazendo a interseção entre dois `sets`, obtemos o conjunto de elementos em comum entre eles.\n",
        "\n",
        "Podemos realizar essa operação através do método `intersection()` ou do operador `&`.\n",
        "\n",
        "> A intersecção de conjuntos significa literalmente identificar os elementos presentes em um conjunto **e** no outro. É por isso que podemos usar o operador lógico `&` 🙃"
      ]
    },
    {
      "cell_type": "code",
      "execution_count": null,
      "metadata": {
        "id": "l68oYejMIe-7"
      },
      "outputs": [],
      "source": [
        "# operando com intersection()\n",
        "print(a.intersection(b))\n",
        "\n",
        "#operando com &\n",
        "print(a & b)"
      ]
    },
    {
      "cell_type": "markdown",
      "metadata": {
        "id": "cE5JZpt1IlJv"
      },
      "source": [
        "### Diferença\n",
        "\n",
        "Com a diferença entre `a` e `b`, obtemos o conjunto de elementos que pertencem ao conjunto `a`, mas não pertencem ao conjunto `b`.\n",
        "\n",
        "Realizamos esta operação usando o método `difference()` ou o operador `-`.\n",
        "\n",
        "**Note que `a - b` não é necessariamente igual a `b - a`.**\n",
        "\n",
        "> A diferença de conjuntos significa literalmente identificar os elementos presentes em um conjunto, **menos** os que estejam no outro. É por isso que podemos usar o operador aritmético `-` 🙃"
      ]
    },
    {
      "cell_type": "code",
      "execution_count": null,
      "metadata": {
        "id": "uFDjRpwsI1E2"
      },
      "outputs": [],
      "source": [
        "# operando com difference()\n",
        "print(a.difference(b))\n",
        "print(b.difference(a))\n",
        "\n",
        "# operando com -\n",
        "print(a - b)\n",
        "print(b - a)"
      ]
    },
    {
      "cell_type": "markdown",
      "metadata": {
        "id": "XPfzCP-xI61N"
      },
      "source": [
        "### Diferença simétrica\n",
        "\n",
        "A diferença simétrica representa a união dos elementos de dois conjuntos, com exceção daqueles que estejam na intersecção entre estes dois conjuntos.\n",
        "\n",
        "É possível realizar esta operação através do método `symmetric_difference()` ou do operador `^`.\n",
        "\n",
        "> A diferença simétrica de conjuntos significa literalmente identificar os elementos presentes **ou** em um conjunto **ou** no outro. É por isso que podemos usar o operador lógico `^`, que representa o **ou exclusivo** 🙃"
      ]
    },
    {
      "cell_type": "code",
      "execution_count": null,
      "metadata": {
        "id": "rVty_0EcJBug"
      },
      "outputs": [],
      "source": [
        "# operando com symmetric_difference()\n",
        "print(a.symmetric_difference(b))\n",
        "\n",
        "# operando com ^\n",
        "print(a ^ b)"
      ]
    },
    {
      "cell_type": "markdown",
      "metadata": {
        "id": "VlxTDCtWJbyd"
      },
      "source": [
        "### Pertinência\n",
        "\n",
        "Utilizando o operador de pertinência `in`, podemos verificar se um elemento está ou não em um conjunto:"
      ]
    },
    {
      "cell_type": "code",
      "execution_count": null,
      "metadata": {
        "id": "s_szy9T1Jf0V"
      },
      "outputs": [],
      "source": [
        "1 in a"
      ]
    },
    {
      "cell_type": "code",
      "execution_count": null,
      "metadata": {
        "id": "rVWrE64JJv8z"
      },
      "outputs": [],
      "source": [
        "5 in a"
      ]
    },
    {
      "cell_type": "markdown",
      "metadata": {
        "id": "uEKjGTuAnrjh"
      },
      "source": [
        "Também podemos combinar o operador `in` com o operador lógico `not`:"
      ]
    },
    {
      "cell_type": "code",
      "execution_count": null,
      "metadata": {
        "id": "NFFeJzOnQSoj"
      },
      "outputs": [],
      "source": [
        "8 not in a"
      ]
    },
    {
      "cell_type": "markdown",
      "metadata": {
        "id": "Q7MIY06gnrjh"
      },
      "source": [
        "### Continência e disjunção"
      ]
    },
    {
      "cell_type": "markdown",
      "metadata": {
        "id": "utuzvdZyKk-L"
      },
      "source": [
        "Enquanto o operador `in` verifica se um elemento pertence a um conjunto, o `set` oferece três métodos para testar relações entre conjuntos:"
      ]
    },
    {
      "cell_type": "markdown",
      "metadata": {
        "id": "oxVcZYWwnrjh"
      },
      "source": [
        "1. `issubset()` ou `<=`:  testa se um conjunto está contido em outro, ou seja, se um conjunto é um subconjunto do outro."
      ]
    },
    {
      "cell_type": "code",
      "execution_count": null,
      "metadata": {
        "id": "C7509kyLKpn-"
      },
      "outputs": [],
      "source": [
        "c = {1, 2}\n",
        "\n",
        "# operando com issubset()\n",
        "if c.issubset(a):\n",
        "  print(\"C é subconjunto de A, pois C está contido em A.\")\n",
        "else:\n",
        "  print(\"C não é subconjunto de A, pois C não está contido em A.\")\n",
        "\n",
        "# operando com <=\n",
        "if not c <= a:\n",
        "  print(\"C não é subconjunto de A, pois C não está contido em A.\")\n",
        "else:\n",
        "  print(\"C é subconjunto de A, pois C está contido em A.\")"
      ]
    },
    {
      "cell_type": "markdown",
      "metadata": {
        "id": "NK1SRkIyK3sG"
      },
      "source": [
        "2. `issuperset()` ou `>=`:  testa se um conjunto contém o outro, ou seja, se um conjunto é um superconjunto do outro."
      ]
    },
    {
      "cell_type": "code",
      "execution_count": null,
      "metadata": {
        "id": "7eaiyrLfLCsF"
      },
      "outputs": [],
      "source": [
        "# operando com issuperset()\n",
        "if a.issuperset(c):\n",
        "  print(\"A é superconjunto de C, pois A contém C.\")\n",
        "else:\n",
        "  print(\"A não é superconjunto de C, pois A não contém C.\")\n",
        "\n",
        "# operando com >=\n",
        "if not a >= c:\n",
        "  print(\"A não é superconjunto de C, pois A não contém C.\")\n",
        "else:\n",
        "  print(\"A é superconjunto de C, pois A contém C.\")"
      ]
    },
    {
      "cell_type": "markdown",
      "metadata": {
        "id": "Wwk00G2Qnrji"
      },
      "source": [
        "> As relações `<=` e `>=` são simétricas, então `a >= b` equivale a `b <= a`."
      ]
    },
    {
      "cell_type": "markdown",
      "metadata": {
        "id": "9QjPx2nZMOgj"
      },
      "source": [
        "3. `isdisjoint()`: testa se dois conjuntos são disjuntos, ou seja, se a interseção entre eles é vazia."
      ]
    },
    {
      "cell_type": "code",
      "execution_count": null,
      "metadata": {
        "id": "dcknyU00MUa2"
      },
      "outputs": [],
      "source": [
        "if c.isdisjoint(a):\n",
        "  print(\"C e A são disjuntos, pois sua interseção é vazia.\")\n",
        "else:\n",
        "  print(\"C e A não são disjuntos, pois sua interseção não é vazia.\")\n",
        "if c.isdisjoint(b):\n",
        "  print(\"C e B são disjuntos, pois sua interseção é vazia.\")\n",
        "else:\n",
        "  print(\"C e B não são disjuntos, pois sua interseção não é vazia.\")"
      ]
    },
    {
      "cell_type": "markdown",
      "metadata": {
        "id": "va2_qr9VRCxm"
      },
      "source": [
        "# Exercícios"
      ]
    },
    {
      "cell_type": "markdown",
      "metadata": {
        "id": "0ZrVKl2LRHPn"
      },
      "source": [
        "1 - Agora que já temos um bom conhecimentos sobre os conjuntos, voltemos ao exemplo da introdução.\n",
        "\n",
        "Os dados sobre conhecimento em diversos idiomas pelos estudantes da UFRN são guardados em um banco de dados.\n",
        "\n",
        "Após consulta a essa base de dados, a matrícula dos alunos foram salvas nos conjuntos relativos aos idiomas que cada um fala:"
      ]
    },
    {
      "cell_type": "code",
      "execution_count": null,
      "metadata": {
        "id": "YgOmzQPrRdHa"
      },
      "outputs": [],
      "source": [
        "ingles = {2017992691, 2014731077, 2016127320, 2017673650, 2017675600, 2016071490, 2015763941,2018124856, 2014240183, 2015069118, 2017397627, 2018257434, 2018146279,2018336479, 2016255160, 2016191681, 2017462010, 2015267990, 2018353177,2016316106, 2017534024, 2017435227, 2018485174, 2017511916, 2018252953, 2018230360, 2015896310, 2016403233, 2018036952, 2018223748, 2017106407, 2018928865, 2015808443, 2015490023, 2014680801, 2016797947, 2017169550, 2017741705, 2016449433, 2018701674, 2018681674, 2018822119, 2015629894, 2018552429, 2014160569, 2014812342, 2015241433, 2015633224, 2015938370, 2014994808, 2018682286, 2014920254, 2017952048, 2014899143, 2018459199, 2015659561, 2018886010, 2016111302, 2018528579, 2017559038, 2018248638, 2015560871, 2014569332, 2018652276, 2016701261, 2016308042, 2016310173, 2017705448, 2014399415, 2016268450, 2017608181, 2015981561, 2014964705, 2014655030, 2017687958, 2016162852, 2017223176, 2014759427, 2017290535, 2017031946, 2017042504, 2018916372, 2017757689, 2014922487, 2016080164, 2014792539, 2016110301, 2015200433, 2015667306, 2014891106, 2014748251, 2018911399, 2015008915, 2014976823, 2018870448}\n",
        "espanhol = {2017992691, 2014731077, 2016127320, 2017673650, 2017675600, 2016071490, 2015763941, 2015365994, 2014728861, 2014152867, 2018044073, 2015856913, 2018124856, 2014240183, 2017534024, 2017435227, 2018485174, 2017511916, 2018252953, 2018230360, 2015896310, 2016403233, 2018036952, 2018223748, 2017106407, 2018928865, 2015808443, 2015490023, 2014680801, 2016797947, 2017169550, 2017741705, 2016449433, 2018701674, 2018681674, 2018822119, 2015629894, 2018552429, 2014160569, 2014812342, 2015241433, 2015633224, 2015938370, 2014994808, 2018682286, 2014920254, 2017952048, 2014899143, 2018459199, 2015659561, 2018886010, 2016111302, 2018528579, 2017559038, 2018248638, 2015560871, 2014569332, 2018652276, 2016701261, 2016308042, 2016310173, 2017705448, 2014399415, 2016268450}\n",
        "frances = {2016268450, 2017608181, 2015981561, 2014964705, 2014655030, 2017687958, 2016162852, 2017223176, 2014759427, 2017290535, 2017031946, 2017042504, 2018916372, 2017757689, 2014922487, 2016080164, 2014792539, 2016110301, 2015200433, 2015667306, 2014891106, 2014748251, 2018911399, 2015008915, 2014976823, 2018870448, 2018230360, 2015896310, 2016403233, 2018036952, 2018223748, 2017106407, 2018928865, 2015808443, 2015490023, 2014680801, 2016797947, 2017169550, 2017741705, 2016449433, 2018701674, 2018681674, 2018822119, 2015629894, 2018552429,}\n",
        "alemao = {2015763941, 2015365994, 2014728861, 2014152867, 2018044073, 2015856913, 2018124856, 2014240183, 2015069118, 2017397627, 2018257434, 2018146279,2018336479, 2016255160, 2016191681, 2017462010, 2015267990, 2018353177,2016316106, 2017534024, 2017435227, 2018485174, 2017511916, 2018252953, 2018230360, 2015896310, 2016403233, 2018036952, 2018223748, 2017106407, 2018928865, 2015808443, 2015490023, 2014680801, 2016797947, 2017169550, 2017741705, 2016449433, 2018701674, 2018681674, 2018822119, 2015629894, 2018552429, 2014160569, 2014812342, 2015241433, 2015633224, 2015938370, 2014994808, 2018682286, 2014920254}"
      ]
    },
    {
      "cell_type": "markdown",
      "metadata": {
        "id": "ZP7aLZTtRrBs"
      },
      "source": [
        "1.1 - Calcule quantos alunos falam apenas inglês e espanhol:"
      ]
    },
    {
      "cell_type": "code",
      "execution_count": null,
      "metadata": {
        "id": "cOpD-g4aRsQB"
      },
      "outputs": [],
      "source": []
    },
    {
      "cell_type": "markdown",
      "metadata": {
        "id": "EAbcOQ2DRv4A"
      },
      "source": [
        "1.2 - Calcule quantos alunos falam apenas um idioma:"
      ]
    },
    {
      "cell_type": "code",
      "execution_count": null,
      "metadata": {
        "id": "I0XlgJdrR0Ve"
      },
      "outputs": [],
      "source": []
    },
    {
      "cell_type": "markdown",
      "metadata": {
        "id": "Z_HROn0QRs_W"
      },
      "source": [
        "1.3 - Calcule quantos alunos falam dois idiomas:"
      ]
    },
    {
      "cell_type": "code",
      "execution_count": null,
      "metadata": {
        "id": "TmNx8vBCRz1I"
      },
      "outputs": [],
      "source": []
    },
    {
      "cell_type": "markdown",
      "metadata": {
        "id": "Bx2KGgZKSKKR"
      },
      "source": [
        "Já imaginou realizar esses cálculos sem o ```set()```? Com certeza, teríamos mais trabalho.\n",
        "\n",
        "Nesse exercício, vimos uma das utilidades dos conjuntos, que é realizar operações. Outra ocasião em que pode ser bastante útil é na remoção de elementos repetidos de uma sequência. Para entender melhor, faça o exercício 2:"
      ]
    },
    {
      "cell_type": "markdown",
      "metadata": {
        "id": "GsztDDtzSLUQ"
      },
      "source": [
        "2 - **[OBI - 2012]** Certa vez, numa aula, a professora passou um filme para os alunos assistirem. Durante este filme, ela passou uma lista de presença em sua sala para verificar a presença dos alunos, onde cada aluno deveria inserir apenas seu número de registro. Alguns alunos contudo, como possuem amigos que fogem da aula, decidiram ser camaradas e inseriram os números de registro de seus amigos fujões. O problema é que muitos alunos são amigos de alunos que fogem da aula e alguns números de registro acabaram sendo repetidamente inseridos na lista de presença. Além de tudo, alguns dos alunos que se esperava que não estivessem na aula de fato estavam!\n",
        "\n",
        "A professora, ao notar que a lista de presença continha alguns números repetidos, ficou sem entender, mas decidiu dar um voto de confiança e dar presença a todos os alunos cujos números de registro estavam na lista. Como são muitos alunos na sala e muitos números com repetição, ela pediu a sua ajuda para determinar o total de alunos que receberam presença na aula."
      ]
    },
    {
      "cell_type": "markdown",
      "metadata": {
        "id": "WpucsZKZS7Sn"
      },
      "source": [
        "**Entrada**\n",
        "\n",
        "A primeira linha da entrada contém um número inteiro N , que informa a quantidade de números de registro que apareceram na lista de presença. Cada uma das N linhas seguintes contém um número de registro Vi que foi inserido na lista de presença.\n",
        "\n",
        "**Saída**\n",
        "Seu programa deve imprimir uma única linha, contendo apenas um número inteiro, o número de alunos que receberam presença."
      ]
    },
    {
      "cell_type": "markdown",
      "metadata": {
        "id": "ptPTsS7kTRyu"
      },
      "source": [
        "| Entrada            \t| Saída \t|\n",
        "|--------------------\t|-------\t|\n",
        "| 3<br> 2<br>3<br>1|   3   \t|"
      ]
    },
    {
      "cell_type": "code",
      "execution_count": null,
      "metadata": {
        "id": "q7GEc59NTeVk"
      },
      "outputs": [],
      "source": []
    },
    {
      "cell_type": "markdown",
      "metadata": {
        "id": "hGQloYI5TfFe"
      },
      "source": [
        "3 - **[Continuação]** No dia seguinte, a professora deu um grande sermão para os seus alunos, que se comprometeram a não fugir mais das aulas.\n",
        "Passada uma semana, a professora passou mais um filme para os seus alunos assistirem e a mesma situação se repetiu. Chateada, ela decidiu que, dessa vez, daria falta nos alunos que tinham registro repetido na lista de presença. Mais uma vez, ela pediu a sua ajuda para determinar o total de alunos que receberam presença na aula."
      ]
    },
    {
      "cell_type": "markdown",
      "metadata": {
        "id": "MxbSUPtcTpSQ"
      },
      "source": [
        "**Entrada**\n",
        "\n",
        "A primeira linha da entrada contém um número inteiro N , que informa a quantidade de números de registro que apareceram na lista de presença. Cada uma das N linhas seguintes contém um número de registro Vi que foi inserido na lista de presença.\n",
        "\n",
        "**Saída**\n",
        "\n",
        "Seu programa deve imprimir uma única linha, contendo apenas um número inteiro, o número de alunos que receberam presença.\n"
      ]
    },
    {
      "cell_type": "markdown",
      "metadata": {
        "id": "R3BU7OJbTyJq"
      },
      "source": [
        "| Entrada            \t| Saída \t|\n",
        "|--------------------\t| -------\t|\n",
        "| 15<br>1<br>0<br>5<br>6<br>0<br>12<br>25<br>6<br>2<br>6<br>5<br>0<br>25<br>13<br>2 |    4   \t|"
      ]
    },
    {
      "cell_type": "code",
      "execution_count": null,
      "metadata": {
        "id": "3YeNjIU4LC3C"
      },
      "outputs": [],
      "source": []
    },
    {
      "cell_type": "markdown",
      "metadata": {
        "id": "G21D68zTU3Vd"
      },
      "source": [
        "3 - João e Maria possuem um dado de 12 faces e gostam de jogar com ele da seguinte forma:\n",
        "- João lança o dado e o número da face virada para cima é eliminado;\n",
        "- depois, Maria repete o processo. Caso tire um número que já foi eliminado, nada acontece;\n",
        "- assim continuam até que não restem mais números para serem eliminados;\n",
        "- ganha quem conseguir eliminar o último número. <br>\n",
        "Faça um programa que simule esse jogo"
      ]
    },
    {
      "cell_type": "code",
      "execution_count": null,
      "metadata": {
        "id": "abFSN0BPWQcp"
      },
      "outputs": [],
      "source": []
    },
    {
      "cell_type": "markdown",
      "metadata": {
        "id": "twjw_hF1N24I"
      },
      "source": [
        "# Extras"
      ]
    },
    {
      "cell_type": "markdown",
      "metadata": {
        "id": "hBuv6GdgUXyX"
      },
      "source": [
        "**Update**: Modifica o conjunto A para possuir os elementos de A $\\cup$ B"
      ]
    },
    {
      "cell_type": "code",
      "execution_count": null,
      "metadata": {
        "id": "jGYVaBaTUkf3"
      },
      "outputs": [],
      "source": [
        "a = {1, 2, 3, 4}\n",
        "b = {3, 4, 5, 6}\n",
        "print(a)\n",
        "print(b)\n",
        "print(a.union(b))\n",
        "a.update(b)\n",
        "print(a)\n",
        "print(b)"
      ]
    },
    {
      "cell_type": "markdown",
      "metadata": {
        "id": "UznGU1E6Uv4j"
      },
      "source": [
        "A função ```update()``` pode ser utilizada com outras funções, sendo escrita como sufixo.\n",
        "\n",
        "Nesse caso, ela sobrescreve o conjunto A para ser equivalente a operação desejada.\n",
        "\n",
        "Por exemplo:"
      ]
    },
    {
      "cell_type": "code",
      "execution_count": null,
      "metadata": {
        "id": "q0XJwlsPUyxF"
      },
      "outputs": [],
      "source": [
        "a = {1, 2, 3, 4}\n",
        "b = {3, 4, 5, 6}\n",
        "print(a)\n",
        "print(b)\n",
        "print(a.intersection(b))\n",
        "a.intersection_update(b)\n",
        "print(a)\n",
        "print(b)"
      ]
    },
    {
      "cell_type": "code",
      "execution_count": null,
      "metadata": {
        "id": "FzOkoEYSelGa"
      },
      "outputs": [],
      "source": [
        "a = {1, 2, 3, 4}\n",
        "b = {3, 4, 5, 6}\n",
        "print(a)\n",
        "print(b)\n",
        "print(a.difference(b))\n",
        "a.difference_update(b)\n",
        "print(a)\n",
        "print(b)"
      ]
    },
    {
      "cell_type": "code",
      "execution_count": null,
      "metadata": {
        "id": "TO7DCjp6elTr"
      },
      "outputs": [],
      "source": [
        "a = {1, 2, 3, 4}\n",
        "b = {3, 4, 5, 6}\n",
        "print(a)\n",
        "print(b)\n",
        "print(a.symmetric_difference(b))\n",
        "a.symmetric_difference_update(b)\n",
        "print(a)\n",
        "print(b)"
      ]
    },
    {
      "cell_type": "markdown",
      "metadata": {
        "id": "ufNwjr4gSTmx"
      },
      "source": [
        "**Frozenset**: funciona, em linhas gerais, como um conjunto, mas com a diferença de que não pode ser alterado. <br>\n",
        "Leia mais em: [frozenset](https://www.programiz.com/python-programming/methods/built-in/frozenset)"
      ]
    }
  ],
  "metadata": {
    "colab": {
      "name": "Conjuntos.ipynb",
      "provenance": [],
      "toc_visible": true,
      "include_colab_link": true
    },
    "kernelspec": {
      "display_name": "Python 3",
      "language": "python",
      "name": "python3"
    },
    "language_info": {
      "codemirror_mode": {
        "name": "ipython",
        "version": 3
      },
      "file_extension": ".py",
      "mimetype": "text/x-python",
      "name": "python",
      "nbconvert_exporter": "python",
      "pygments_lexer": "ipython3",
      "version": "3.6.8"
    }
  },
  "nbformat": 4,
  "nbformat_minor": 0
}
