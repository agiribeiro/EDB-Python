{
  "nbformat": 4,
  "nbformat_minor": 0,
  "metadata": {
    "colab": {
      "name": "Aula05.ipynb",
      "provenance": [],
      "include_colab_link": true
    },
    "language_info": {
      "codemirror_mode": {
        "name": "ipython",
        "version": 2
      },
      "file_extension": ".py",
      "mimetype": "text/x-python",
      "name": "python",
      "nbconvert_exporter": "python",
      "pygments_lexer": "ipython2",
      "version": "2.7.10"
    },
    "kernelspec": {
      "display_name": "Python 2",
      "language": "python",
      "name": "python2"
    }
  },
  "cells": [
    {
      "cell_type": "markdown",
      "metadata": {
        "id": "view-in-github",
        "colab_type": "text"
      },
      "source": [
        "<a href=\"https://colab.research.google.com/github/agiribeiro/EDB1/blob/master/notebooks/Dicionarios.ipynb\" target=\"_parent\"><img src=\"https://colab.research.google.com/assets/colab-badge.svg\" alt=\"Open In Colab\"/></a>"
      ]
    },
    {
      "cell_type": "markdown",
      "metadata": {
        "id": "e7_fjBgKyPUx"
      },
      "source": [
        "##Dicionários"
      ]
    },
    {
      "cell_type": "markdown",
      "metadata": {
        "id": "--t9x7eDyPUy"
      },
      "source": [
        "Os dicionários são mais usados ​​como um banco de dados, porque aqui você pode indexar uma sequência específica com sua string definida pelo usuário.\n"
      ]
    },
    {
      "cell_type": "markdown",
      "metadata": {
        "id": "9o1V8e37yPUz"
      },
      "source": [
        "Para definir um dicionário, equacione uma variável para {} ou dict ()\n"
      ]
    },
    {
      "cell_type": "code",
      "metadata": {
        "id": "JPYPdb33yPU0",
        "outputId": "fe4ca133-55a2-4f2d-9493-acceb43bf37e"
      },
      "source": [
        "d0 = {}\n",
        "d1 = dict()\n",
        "print type(d0), type(d1)"
      ],
      "execution_count": null,
      "outputs": [
        {
          "output_type": "stream",
          "text": [
            "<type 'dict'> <type 'dict'>\n"
          ],
          "name": "stdout"
        }
      ]
    },
    {
      "cell_type": "markdown",
      "metadata": {
        "id": "pY3FQz8fyPU6"
      },
      "source": [
        "Dicionário funciona um pouco como uma lista, mas com uma capacidade adicional de atribuir seu próprio estilo de índice.\n"
      ]
    },
    {
      "cell_type": "code",
      "metadata": {
        "id": "MZ4T6Hb8yPU7",
        "outputId": "21f5e6e5-cd14-4d41-cd0e-aea433b01ef8"
      },
      "source": [
        "d0['One'] = 1\n",
        "d0['OneTwo'] = 12\n",
        "print d0"
      ],
      "execution_count": null,
      "outputs": [
        {
          "output_type": "stream",
          "text": [
            "{'OneTwo': 12, 'One': 1}\n"
          ],
          "name": "stdout"
        }
      ]
    },
    {
      "cell_type": "markdown",
      "metadata": {
        "id": "MKAYIKUYyPVG"
      },
      "source": [
        "É assim que um dicionário se parece. Agora você pode acessar '1' pelo valor do índice definido em 'One'\n"
      ]
    },
    {
      "cell_type": "code",
      "metadata": {
        "id": "E6j3c2T4yPVH",
        "outputId": "6d69029b-2225-4dda-d994-16f47be247aa"
      },
      "source": [
        "print d0['One']"
      ],
      "execution_count": null,
      "outputs": [
        {
          "output_type": "stream",
          "text": [
            "1\n"
          ],
          "name": "stdout"
        }
      ]
    },
    {
      "cell_type": "markdown",
      "metadata": {
        "id": "ayHWTmeLyPVL"
      },
      "source": [
        "Duas listas relacionadas podem ser mescladas para formar um dicionário.\n"
      ]
    },
    {
      "cell_type": "code",
      "metadata": {
        "id": "mxQYlc-_yPVM"
      },
      "source": [
        "names = ['One', 'Two', 'Three', 'Four', 'Five']\n",
        "numbers = [1, 2, 3, 4, 5]"
      ],
      "execution_count": null,
      "outputs": []
    },
    {
      "cell_type": "markdown",
      "metadata": {
        "id": "IULsRx0PyPVN"
      },
      "source": [
        "**zip( )** é usada para combinar duas listas"
      ]
    },
    {
      "cell_type": "code",
      "metadata": {
        "id": "9axuOZ9DyPVP",
        "outputId": "a2abe9ce-8e25-4e3d-9b29-b210632233e3"
      },
      "source": [
        "d2 = zip(names,numbers)\n",
        "print d2"
      ],
      "execution_count": null,
      "outputs": [
        {
          "output_type": "stream",
          "text": [
            "[('One', 1), ('Two', 2), ('Three', 3), ('Four', 4), ('Five', 5)]\n"
          ],
          "name": "stdout"
        }
      ]
    },
    {
      "cell_type": "markdown",
      "metadata": {
        "collapsed": false,
        "id": "c1QiaX1myPVV"
      },
      "source": [
        "As duas listas são combinadas para formar uma única lista e cada elemento é dividido com seus respectivos elementos da outra lista dentro de uma tupla. Tuplas porque é isso que é designado e o valor não deve mudar.\n",
        "\n",
        "Além disso, Para converter o acima em um dicionário. **dict ()**  é a função usada."
      ]
    },
    {
      "cell_type": "code",
      "metadata": {
        "id": "Iew5Z0cOyPVW",
        "outputId": "d97198d4-5c97-47a3-8607-3cb91dc882f2"
      },
      "source": [
        "a1 = dict(d2)\n",
        "print a1"
      ],
      "execution_count": null,
      "outputs": [
        {
          "output_type": "stream",
          "text": [
            "{'Four': 4, 'Five': 5, 'Three': 3, 'Two': 2, 'One': 1}\n"
          ],
          "name": "stdout"
        }
      ]
    },
    {
      "cell_type": "markdown",
      "metadata": {
        "id": "aU5AFVT7yPVZ"
      },
      "source": [
        "###Built-in Functions"
      ]
    },
    {
      "cell_type": "markdown",
      "metadata": {
        "id": "kRyYX_yKyPVa"
      },
      "source": [
        "**clear( )** é usada para apagar todo banco de dados criado."
      ]
    },
    {
      "cell_type": "code",
      "metadata": {
        "id": "GWSn7X50yPVa",
        "outputId": "ebfdc8a9-eead-4b50-f567-b9240940832a"
      },
      "source": [
        "a1.clear()\n",
        "print a1"
      ],
      "execution_count": null,
      "outputs": [
        {
          "output_type": "stream",
          "text": [
            "{}\n"
          ],
          "name": "stdout"
        }
      ]
    },
    {
      "cell_type": "markdown",
      "metadata": {
        "id": "BjeaSU9iyPVe"
      },
      "source": [
        "Cicionários podem ser criados usando loops:"
      ]
    },
    {
      "cell_type": "code",
      "metadata": {
        "id": "xO4gWC9hyPVf",
        "outputId": "4b4c80b0-9cc3-4ef2-8a8c-fba705d398fb"
      },
      "source": [
        "for i in range(len(names)):\n",
        "    a1[names[i]] = numbers[i]\n",
        "print a1"
      ],
      "execution_count": null,
      "outputs": [
        {
          "output_type": "stream",
          "text": [
            "{'Four': 4, 'Five': 5, 'Three': 3, 'Two': 2, 'One': 1}\n"
          ],
          "name": "stdout"
        }
      ]
    },
    {
      "cell_type": "markdown",
      "metadata": {
        "id": "GYIGqeVQyPVi"
      },
      "source": [
        "**values( )** retorna uma lista com todos os valores atribuídos no dicionário.\n"
      ]
    },
    {
      "cell_type": "code",
      "metadata": {
        "id": "KNht_OQlyPVj",
        "outputId": "c3957f05-d10c-4670-b0db-72f6c3a44259"
      },
      "source": [
        "a1.values()"
      ],
      "execution_count": null,
      "outputs": [
        {
          "output_type": "execute_result",
          "data": {
            "text/plain": [
              "[4, 5, 3, 2, 1]"
            ]
          },
          "metadata": {
            "tags": []
          },
          "execution_count": 38
        }
      ]
    },
    {
      "cell_type": "markdown",
      "metadata": {
        "id": "sIj6OsRJyPVn"
      },
      "source": [
        "**keys( )** retorna todos os índices ou as chaves às quais contém os valores aos quais foi atribuído.\n"
      ]
    },
    {
      "cell_type": "code",
      "metadata": {
        "id": "MoTWAjsDyPVp",
        "outputId": "139adb4f-0573-4197-bbc4-0a9c06cf7ff6"
      },
      "source": [
        "a1.keys()"
      ],
      "execution_count": null,
      "outputs": [
        {
          "output_type": "execute_result",
          "data": {
            "text/plain": [
              "['Four', 'Five', 'Three', 'Two', 'One']"
            ]
          },
          "metadata": {
            "tags": []
          },
          "execution_count": 39
        }
      ]
    },
    {
      "cell_type": "markdown",
      "metadata": {
        "id": "tKe7uObEyPVs"
      },
      "source": [
        "**items( )** retorna uma lista contendo a lista, mas cada elemento no dicionário está dentro de uma tupla. Isso é o mesmo que o resultado obtido quando a função zip foi usada.\n"
      ]
    },
    {
      "cell_type": "code",
      "metadata": {
        "id": "oxDbVUR4yPVs",
        "outputId": "dcef5cc2-53c7-4bb1-bb12-c16c3499461f"
      },
      "source": [
        "a1.items()"
      ],
      "execution_count": null,
      "outputs": [
        {
          "output_type": "execute_result",
          "data": {
            "text/plain": [
              "[('Four', 4), ('Five', 5), ('Three', 3), ('Two', 2), ('One', 1)]"
            ]
          },
          "metadata": {
            "tags": []
          },
          "execution_count": 40
        }
      ]
    },
    {
      "cell_type": "markdown",
      "metadata": {
        "id": "mKB3Rjm5yPV1"
      },
      "source": [
        "**pop( )** é usada para obter a remoção desse elemento específico e esse elemento removido pode ser atribuído a uma nova variável. Mas lembre-se apenas o valor é armazenado e não a chave."
      ]
    },
    {
      "cell_type": "code",
      "metadata": {
        "id": "j6fhoiBDyPV3",
        "outputId": "7299caeb-426d-4789-e4e4-bbc034a1dd6f"
      },
      "source": [
        "a2 = a1.pop('Four')\n",
        "print a1\n",
        "print a2"
      ],
      "execution_count": null,
      "outputs": [
        {
          "output_type": "stream",
          "text": [
            "{'Five': 5, 'Three': 3, 'Two': 2, 'One': 1}\n",
            "4\n"
          ],
          "name": "stdout"
        }
      ]
    },
    {
      "cell_type": "markdown",
      "metadata": {
        "id": "IjVojH7jM2bS"
      },
      "source": [
        "## Questões Extra\n",
        "\n",
        "1 - Crie um programa que compare dois dicionários e verifique se suas chaves possuem o mesmo valor, e crie dois dicionários novos, um com os valores iguais e outro dicionário os com valores diferentes.\n",
        "\n",
        "Ex:\n",
        "\n",
        "`dic1 = { \"key1\": 50, \"key2\": 100, \"key3\": 35, \"key4\": 15}`\n",
        "\n",
        "`dic2 = { \"key1\": 100, \"key2\": 15, \"key3\":25 , \"key4\": 32}`\n",
        "\n",
        "Resultado:\n",
        "\n",
        "`dicIguais = { \"key1\": 100, \"key2\": 15 }`\n",
        "\n",
        "`dicDiferentes = { \"key1\": 50, \"key2\":25, \"key3\":15, \"key4\":35, \"key5\": \"32\" }`"
      ]
    },
    {
      "cell_type": "code",
      "execution_count": null,
      "metadata": {
        "id": "GYQpgVsuM312"
      },
      "outputs": [],
      "source": []
    },
    {
      "cell_type": "markdown",
      "metadata": {
        "id": "URven1fBqaIn"
      },
      "source": [
        "2 - A professora está elaborando uma prova, e marcando a quantidade de vezes que cada alternativa foi escolhida nas questões como certa.\n",
        "\n",
        "A entrada é dada como uma string, contendo letras de `a` até `e`.\n",
        "\n",
        "Faça um programa que use um dicionário para guardar o número de ocorrências de cada alternativa escolhida.\n",
        "\n",
        "A saída deve ser a quantidade de vezes que cada alternativa foi escolhida, no seguinte formato:\n",
        "\n",
        "\"`A alternativa x foi escolhida n vezes`\"\n",
        "\n",
        "Dica: use `in` para verificar se a chave está no dicionário."
      ]
    },
    {
      "cell_type": "code",
      "execution_count": null,
      "metadata": {
        "id": "4H5t_XGZqaIn"
      },
      "outputs": [],
      "source": []
    },
    {
      "cell_type": "markdown",
      "metadata": {
        "id": "5hXaJiPcqaIn"
      },
      "source": [
        "3 - Um professor aplicou a prova da Olimpíada Brasileira de Informática e colocou as notas de cada aluno em um dicionário.\n",
        "\n",
        "Agora ele quer organizar outro dicionário para ter uma melhor noção dos resultados.\n",
        "\n",
        "Crie o \"`novoDicionario`\", com as seguintes 5 chaves:\n",
        "\n",
        "- 10:\n",
        "- 9:\n",
        "- 8:\n",
        "- 7:\n",
        "- \"menor que 7\":\n",
        "\n",
        "Para cada chave, o valor associado será uma lista contendo os nomes dos alunos com aquela nota (da chave).\n",
        "\n",
        "Exemplo: Digamos que somente dois alunos, Leonardo e Isaac, tiraram 10, então espera-se que exista a entrada:\n",
        "\n",
        "`10: [\"Leonardo\" , \"Isaac\"]`\n",
        "\n",
        "Também digamos que nenhum aluno teve nota 7, então espera-se a entrada:\n",
        "\n",
        "`7: []`"
      ]
    },
    {
      "cell_type": "code",
      "execution_count": null,
      "metadata": {
        "id": "gYJr9itrqaIn"
      },
      "outputs": [],
      "source": [
        "nomes = { \"Adeline\": 10, \"Emma\": 1, \"Zora \": 10, \"Lily\": 10, \"Yoli\": 10, \"Brielle\": 10, \"Fiona\": 2, \"Ursula\": 3, \"Randalynn\": 4, \"Quinn\": 6, \"Juliana\": 7, \"Vivi\": 7, \"Nora\": 7, \"Kimber\": 7, \"Xenia\": 7, \"Winona\": 7, \"Crystal\": 8, \"Tianna\": 8, \"Merida\": 8, \"Delilah\": 8, \"Hendrix\": 8, \"Staci\": 8, \"Isabella\": 9, \"Phoenix\": 9, \"Georgia\":9, \"Orion\": 9}\n",
        "\n"
      ]
    },
    {
      "cell_type": "markdown",
      "metadata": {
        "id": "wBH-08ieqaIn"
      },
      "source": [
        "4 - Continuando com o exemplo do Exercício 3, consider que as chaves serão as mesmas, mas vamos mudar os valores. Ao invés de listas vamos usar outros dicionários.\n",
        "\n",
        "Para cada chave, 10, 9, 8, 7 e \"menor que 7\", teremos outro dicionário, com as chaves \"quantidade\" e \"nomes\"\n",
        "\n",
        "Quantidade será o valor inteiro, e nomes será uma lista novamente.\n",
        "\n",
        "Exemplo:\n",
        "\n",
        "Para uma dada entrada, somente dois alunos, Anna e Isaac, tiraram 10 e nenhum aluno tirou 7:"
      ]
    },
    {
      "cell_type": "code",
      "execution_count": null,
      "metadata": {
        "id": "JT1ssr0sqaIn"
      },
      "outputs": [],
      "source": [
        "notas = {\n",
        "        10: {\n",
        "            \"quantidade\": 2,\n",
        "            \"nomes\": [\"Anna\" , \"Isaac\"]\n",
        "            },\n",
        "\n",
        "        7: {\n",
        "            \"quantidade\": 0,\n",
        "            \"nomes\": []\n",
        "            }\n",
        "        }"
      ]
    }
  ]
}
