{
  "nbformat": 4,
  "nbformat_minor": 0,
  "metadata": {
    "colab": {
      "provenance": [],
      "authorship_tag": "ABX9TyMdasBjOFRjxjnY5SIrw99T",
      "include_colab_link": true
    },
    "kernelspec": {
      "name": "python3",
      "display_name": "Python 3"
    },
    "language_info": {
      "name": "python"
    }
  },
  "cells": [
    {
      "cell_type": "markdown",
      "metadata": {
        "id": "view-in-github",
        "colab_type": "text"
      },
      "source": [
        "<a href=\"https://colab.research.google.com/github/agiribeiro/EDB-Python/blob/master/Listas/Listas_conjuntos_dic.ipynb\" target=\"_parent\"><img src=\"https://colab.research.google.com/assets/colab-badge.svg\" alt=\"Open In Colab\"/></a>"
      ]
    },
    {
      "cell_type": "markdown",
      "metadata": {
        "id": "va2_qr9VRCxm"
      },
      "source": [
        "# Exercícios"
      ]
    },
    {
      "cell_type": "markdown",
      "metadata": {
        "id": "0ZrVKl2LRHPn"
      },
      "source": [
        "1 - Agora que já temos um bom conhecimentos sobre os conjuntos, voltemos ao exemplo da introdução.\n",
        "\n",
        "Os dados sobre conhecimento em diversos idiomas pelos estudantes da UFRN são guardados em um banco de dados.\n",
        "\n",
        "Após consulta a essa base de dados, a matrícula dos alunos foram salvas nos conjuntos relativos aos idiomas que cada um fala:"
      ]
    },
    {
      "cell_type": "code",
      "execution_count": null,
      "metadata": {
        "id": "YgOmzQPrRdHa"
      },
      "outputs": [],
      "source": [
        "ingles = {2017992691, 2014731077, 2016127320, 2017673650, 2017675600, 2016071490, 2015763941,2018124856, 2014240183, 2015069118, 2017397627, 2018257434, 2018146279,2018336479, 2016255160, 2016191681, 2017462010, 2015267990, 2018353177,2016316106, 2017534024, 2017435227, 2018485174, 2017511916, 2018252953, 2018230360, 2015896310, 2016403233, 2018036952, 2018223748, 2017106407, 2018928865, 2015808443, 2015490023, 2014680801, 2016797947, 2017169550, 2017741705, 2016449433, 2018701674, 2018681674, 2018822119, 2015629894, 2018552429, 2014160569, 2014812342, 2015241433, 2015633224, 2015938370, 2014994808, 2018682286, 2014920254, 2017952048, 2014899143, 2018459199, 2015659561, 2018886010, 2016111302, 2018528579, 2017559038, 2018248638, 2015560871, 2014569332, 2018652276, 2016701261, 2016308042, 2016310173, 2017705448, 2014399415, 2016268450, 2017608181, 2015981561, 2014964705, 2014655030, 2017687958, 2016162852, 2017223176, 2014759427, 2017290535, 2017031946, 2017042504, 2018916372, 2017757689, 2014922487, 2016080164, 2014792539, 2016110301, 2015200433, 2015667306, 2014891106, 2014748251, 2018911399, 2015008915, 2014976823, 2018870448}\n",
        "espanhol = {2017992691, 2014731077, 2016127320, 2017673650, 2017675600, 2016071490, 2015763941, 2015365994, 2014728861, 2014152867, 2018044073, 2015856913, 2018124856, 2014240183, 2017534024, 2017435227, 2018485174, 2017511916, 2018252953, 2018230360, 2015896310, 2016403233, 2018036952, 2018223748, 2017106407, 2018928865, 2015808443, 2015490023, 2014680801, 2016797947, 2017169550, 2017741705, 2016449433, 2018701674, 2018681674, 2018822119, 2015629894, 2018552429, 2014160569, 2014812342, 2015241433, 2015633224, 2015938370, 2014994808, 2018682286, 2014920254, 2017952048, 2014899143, 2018459199, 2015659561, 2018886010, 2016111302, 2018528579, 2017559038, 2018248638, 2015560871, 2014569332, 2018652276, 2016701261, 2016308042, 2016310173, 2017705448, 2014399415, 2016268450}\n",
        "frances = {2016268450, 2017608181, 2015981561, 2014964705, 2014655030, 2017687958, 2016162852, 2017223176, 2014759427, 2017290535, 2017031946, 2017042504, 2018916372, 2017757689, 2014922487, 2016080164, 2014792539, 2016110301, 2015200433, 2015667306, 2014891106, 2014748251, 2018911399, 2015008915, 2014976823, 2018870448, 2018230360, 2015896310, 2016403233, 2018036952, 2018223748, 2017106407, 2018928865, 2015808443, 2015490023, 2014680801, 2016797947, 2017169550, 2017741705, 2016449433, 2018701674, 2018681674, 2018822119, 2015629894, 2018552429,}\n",
        "alemao = {2015763941, 2015365994, 2014728861, 2014152867, 2018044073, 2015856913, 2018124856, 2014240183, 2015069118, 2017397627, 2018257434, 2018146279,2018336479, 2016255160, 2016191681, 2017462010, 2015267990, 2018353177,2016316106, 2017534024, 2017435227, 2018485174, 2017511916, 2018252953, 2018230360, 2015896310, 2016403233, 2018036952, 2018223748, 2017106407, 2018928865, 2015808443, 2015490023, 2014680801, 2016797947, 2017169550, 2017741705, 2016449433, 2018701674, 2018681674, 2018822119, 2015629894, 2018552429, 2014160569, 2014812342, 2015241433, 2015633224, 2015938370, 2014994808, 2018682286, 2014920254}"
      ]
    },
    {
      "cell_type": "markdown",
      "metadata": {
        "id": "ZP7aLZTtRrBs"
      },
      "source": [
        "1.1 - Calcule quantos alunos falam apenas inglês e espanhol:"
      ]
    },
    {
      "cell_type": "code",
      "execution_count": null,
      "metadata": {
        "id": "cOpD-g4aRsQB"
      },
      "outputs": [],
      "source": [
        "#Digite sua resposta aqui"
      ]
    },
    {
      "cell_type": "markdown",
      "metadata": {
        "id": "EAbcOQ2DRv4A"
      },
      "source": [
        "1.2 - Calcule quantos alunos falam apenas um idioma:"
      ]
    },
    {
      "cell_type": "code",
      "execution_count": null,
      "metadata": {
        "id": "I0XlgJdrR0Ve"
      },
      "outputs": [],
      "source": [
        "#Digite sua resposta aqui"
      ]
    },
    {
      "cell_type": "markdown",
      "metadata": {
        "id": "Z_HROn0QRs_W"
      },
      "source": [
        "1.3 - Calcule quantos alunos falam dois idiomas:"
      ]
    },
    {
      "cell_type": "code",
      "execution_count": null,
      "metadata": {
        "id": "TmNx8vBCRz1I"
      },
      "outputs": [],
      "source": [
        "#Digite sua resposta aqui"
      ]
    },
    {
      "cell_type": "markdown",
      "metadata": {
        "id": "GsztDDtzSLUQ"
      },
      "source": [
        "2 - **[OBI - 2012]** Certa vez, numa aula, a professora passou um filme para os alunos assistirem. Durante este filme, ela passou uma lista de presença em sua sala para verificar a presença dos alunos, onde cada aluno deveria inserir apenas seu número de registro. Alguns alunos contudo, como possuem amigos que fogem da aula, decidiram ser camaradas e inseriram os números de registro de seus amigos fujões. O problema é que muitos alunos são amigos de alunos que fogem da aula e alguns números de registro acabaram sendo repetidamente inseridos na lista de presença. Além de tudo, alguns dos alunos que se esperava que não estivessem na aula de fato estavam!\n",
        "\n",
        "A professora, ao notar que a lista de presença continha alguns números repetidos, ficou sem entender, mas decidiu dar um voto de confiança e dar presença a todos os alunos cujos números de registro estavam na lista. Como são muitos alunos na sala e muitos números com repetição, ela pediu a sua ajuda para determinar o total de alunos que receberam presença na aula."
      ]
    },
    {
      "cell_type": "markdown",
      "metadata": {
        "id": "WpucsZKZS7Sn"
      },
      "source": [
        "**Entrada**\n",
        "\n",
        "A primeira linha da entrada contém um número inteiro N , que informa a quantidade de números de registro que apareceram na lista de presença. Cada uma das N linhas seguintes contém um número de registro Vi que foi inserido na lista de presença.\n",
        "\n",
        "**Saída**\n",
        "Seu programa deve imprimir uma única linha, contendo apenas um número inteiro, o número de alunos que receberam presença."
      ]
    },
    {
      "cell_type": "markdown",
      "metadata": {
        "id": "ptPTsS7kTRyu"
      },
      "source": [
        "| Entrada            \t| Saída \t|\n",
        "|--------------------\t|-------\t|\n",
        "| 3<br> 2<br>3<br>1|   3   \t|"
      ]
    },
    {
      "cell_type": "code",
      "execution_count": null,
      "metadata": {
        "id": "q7GEc59NTeVk"
      },
      "outputs": [],
      "source": [
        "#Digite sua resposta aqui"
      ]
    },
    {
      "cell_type": "markdown",
      "metadata": {
        "id": "hGQloYI5TfFe"
      },
      "source": [
        "3 - **[Continuação]** No dia seguinte, a professora deu um grande sermão para os seus alunos, que se comprometeram a não fugir mais das aulas.\n",
        "Passada uma semana, a professora passou mais um filme para os seus alunos assistirem e a mesma situação se repetiu. Chateada, ela decidiu que, dessa vez, daria falta nos alunos que tinham registro repetido na lista de presença. Mais uma vez, ela pediu a sua ajuda para determinar o total de alunos que receberam presença na aula."
      ]
    },
    {
      "cell_type": "markdown",
      "metadata": {
        "id": "MxbSUPtcTpSQ"
      },
      "source": [
        "**Entrada**\n",
        "\n",
        "A primeira linha da entrada contém um número inteiro N , que informa a quantidade de números de registro que apareceram na lista de presença. Cada uma das N linhas seguintes contém um número de registro Vi que foi inserido na lista de presença.\n",
        "\n",
        "**Saída**\n",
        "\n",
        "Seu programa deve imprimir uma única linha, contendo apenas um número inteiro, o número de alunos que receberam presença.\n"
      ]
    },
    {
      "cell_type": "markdown",
      "metadata": {
        "id": "R3BU7OJbTyJq"
      },
      "source": [
        "| Entrada            \t| Saída \t|\n",
        "|--------------------\t| -------\t|\n",
        "| 15<br>1<br>0<br>5<br>6<br>0<br>12<br>25<br>6<br>2<br>6<br>5<br>0<br>25<br>13<br>2 |    4   \t|"
      ]
    },
    {
      "cell_type": "code",
      "execution_count": null,
      "metadata": {
        "id": "3YeNjIU4LC3C"
      },
      "outputs": [],
      "source": [
        "#Digite sua resposta aqui"
      ]
    },
    {
      "cell_type": "markdown",
      "metadata": {
        "id": "IjVojH7jM2bS"
      },
      "source": [
        "\n",
        "4 - Crie um programa que compare dois dicionários e verifique se suas chaves possuem o mesmo valor, e crie dois dicionários novos, um com os valores iguais e outro dicionário os com valores diferentes.\n",
        "\n",
        "Ex:\n",
        "\n",
        "`dic1 = { \"key1\": 50, \"key2\": 100, \"key3\": 35, \"key4\": 15}`\n",
        "\n",
        "`dic2 = { \"key1\": 100, \"key2\": 15, \"key3\":25 , \"key4\": 32}`\n",
        "\n",
        "Resultado:\n",
        "\n",
        "`dicIguais = { \"key1\": 100, \"key2\": 15 }`\n",
        "\n",
        "`dicDiferentes = { \"key1\": 50, \"key2\":25, \"key3\":15, \"key4\":35, \"key5\": \"32\" }`"
      ]
    },
    {
      "cell_type": "code",
      "execution_count": null,
      "metadata": {
        "id": "GYQpgVsuM312"
      },
      "outputs": [],
      "source": []
    },
    {
      "cell_type": "markdown",
      "metadata": {
        "id": "URven1fBqaIn"
      },
      "source": [
        "5 - A professora está elaborando uma prova, e marcando a quantidade de vezes que cada alternativa foi escolhida nas questões como certa.\n",
        "\n",
        "A entrada é dada como uma string, contendo letras de `a` até `e`.\n",
        "\n",
        "Faça um programa que use um dicionário para guardar o número de ocorrências de cada alternativa escolhida.\n",
        "\n",
        "A saída deve ser a quantidade de vezes que cada alternativa foi escolhida, no seguinte formato:\n",
        "\n",
        "\"`A alternativa x foi escolhida n vezes`\"\n",
        "\n",
        "Dica: use `in` para verificar se a chave está no dicionário."
      ]
    },
    {
      "cell_type": "code",
      "execution_count": null,
      "metadata": {
        "id": "4H5t_XGZqaIn"
      },
      "outputs": [],
      "source": []
    },
    {
      "cell_type": "markdown",
      "metadata": {
        "id": "5hXaJiPcqaIn"
      },
      "source": [
        "6 - Um professor aplicou a prova da Olimpíada Brasileira de Informática e colocou as notas de cada aluno em um dicionário.\n",
        "\n",
        "Agora ele quer organizar outro dicionário para ter uma melhor noção dos resultados.\n",
        "\n",
        "Crie o \"`novoDicionario`\", com as seguintes 5 chaves:\n",
        "\n",
        "- 10:\n",
        "- 9:\n",
        "- 8:\n",
        "- 7:\n",
        "- \"menor que 7\":\n",
        "\n",
        "Para cada chave, o valor associado será uma lista contendo os nomes dos alunos com aquela nota (da chave).\n",
        "\n",
        "Exemplo: Digamos que somente dois alunos, Leonardo e Isaac, tiraram 10, então espera-se que exista a entrada:\n",
        "\n",
        "`10: [\"Leonardo\" , \"Isaac\"]`\n",
        "\n",
        "Também digamos que nenhum aluno teve nota 7, então espera-se a entrada:\n",
        "\n",
        "`7: []`"
      ]
    },
    {
      "cell_type": "code",
      "execution_count": null,
      "metadata": {
        "id": "gYJr9itrqaIn"
      },
      "outputs": [],
      "source": [
        "nomes = { \"Adeline\": 10, \"Emma\": 1, \"Zora \": 10, \"Lily\": 10, \"Yoli\": 10, \"Brielle\": 10, \"Fiona\": 2, \"Ursula\": 3, \"Randalynn\": 4, \"Quinn\": 6, \"Juliana\": 7, \"Vivi\": 7, \"Nora\": 7, \"Kimber\": 7, \"Xenia\": 7, \"Winona\": 7, \"Crystal\": 8, \"Tianna\": 8, \"Merida\": 8, \"Delilah\": 8, \"Hendrix\": 8, \"Staci\": 8, \"Isabella\": 9, \"Phoenix\": 9, \"Georgia\":9, \"Orion\": 9}\n",
        "\n"
      ]
    },
    {
      "cell_type": "markdown",
      "metadata": {
        "id": "wBH-08ieqaIn"
      },
      "source": [
        "7 - Continuando com o exemplo do Exercício 6, consider que as chaves serão as mesmas, mas vamos mudar os valores. Ao invés de listas vamos usar outros dicionários.\n",
        "\n",
        "Para cada chave, 10, 9, 8, 7 e \"menor que 7\", teremos outro dicionário, com as chaves \"quantidade\" e \"nomes\"\n",
        "\n",
        "Quantidade será o valor inteiro, e nomes será uma lista novamente.\n",
        "\n",
        "Exemplo:\n",
        "\n",
        "Para uma dada entrada, somente dois alunos, Anna e Isaac, tiraram 10 e nenhum aluno tirou 7:"
      ]
    },
    {
      "cell_type": "code",
      "execution_count": null,
      "metadata": {
        "id": "JT1ssr0sqaIn"
      },
      "outputs": [],
      "source": [
        "notas = {\n",
        "        10: {\n",
        "            \"quantidade\": 2,\n",
        "            \"nomes\": [\"Anna\" , \"Isaac\"]\n",
        "            },\n",
        "\n",
        "        7: {\n",
        "            \"quantidade\": 0,\n",
        "            \"nomes\": []\n",
        "            }\n",
        "        }"
      ]
    },
    {
      "cell_type": "markdown",
      "source": [
        "#DESAFIO\n"
      ],
      "metadata": {
        "id": "PAdw415w4Eb3"
      }
    },
    {
      "cell_type": "code",
      "source": [
        "Escolha um banco de dados publico (sugestao usar o kaggle.com). e plot um gráfico interessante!!\n",
        "Por exemplo:  netflix - quais os filmes mais assistidos por ano...spotify - musicas mais ouvidas em determindada região)"
      ],
      "metadata": {
        "id": "bkYFa_ZE4GMc"
      },
      "execution_count": null,
      "outputs": []
    }
  ]
}