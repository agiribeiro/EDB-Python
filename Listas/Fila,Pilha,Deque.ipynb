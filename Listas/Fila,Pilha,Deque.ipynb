{
  "nbformat": 4,
  "nbformat_minor": 0,
  "metadata": {
    "colab": {
      "provenance": [],
      "authorship_tag": "ABX9TyNwA+dOfpUUPXQ1ZlwiF2I9",
      "include_colab_link": true
    },
    "kernelspec": {
      "name": "python3",
      "display_name": "Python 3"
    },
    "language_info": {
      "name": "python"
    }
  },
  "cells": [
    {
      "cell_type": "markdown",
      "metadata": {
        "id": "view-in-github",
        "colab_type": "text"
      },
      "source": [
        "<a href=\"https://colab.research.google.com/github/agiribeiro/EDB-Python/blob/master/Listas/Fila%2CPilha%2CDeque.ipynb\" target=\"_parent\"><img src=\"https://colab.research.google.com/assets/colab-badge.svg\" alt=\"Open In Colab\"/></a>"
      ]
    },
    {
      "cell_type": "markdown",
      "source": [
        "#FILA , PILHA E DEQUE"
      ],
      "metadata": {
        "id": "1CMpXqE6fhAk"
      }
    },
    {
      "cell_type": "markdown",
      "source": [
        "#Questão 1#\n",
        "Em sala de aula, discutimos que os TADs Pilha, Fila, e Deque podem ser considerados casos específicos do TAD Sequência. Em outras palavras, ao restringirmos a forma que uma Sequência é manipulada, teremos o comportamento esperado de uma Pilha, Fila, ou Deque. Nesta questão, implemente os TADs Pilha, Fila, e Deque com base em listas.\n",
        "\n",
        "a) Pilha – Operações Push, Pop, top, isEmpty, size\n",
        "\n",
        "b) Fila – Operações Queue,Dequeue, peek, isEmpty, size\n",
        "\n",
        "c) Deque – PushBack, PushFront, PopBack, PopFront,Back, Front"
      ],
      "metadata": {
        "id": "rihx2QNofz3g"
      }
    },
    {
      "cell_type": "code",
      "execution_count": null,
      "metadata": {
        "id": "BI7GIUtIfe9l"
      },
      "outputs": [],
      "source": [
        "#Escreva seu código aqui"
      ]
    },
    {
      "cell_type": "markdown",
      "source": [
        "#Questão 2:\n",
        "Suponha que você já possui uma estrutura Pilha implementada corretamente. Reuse esta estrutura\n",
        "Pilha para implementar uma estrutura Fila. Em outras palavras, implemente uma estrutura Fila usando\n",
        "internamente uma ou mais estruturas Pilha. Lembre-se que as operações da Fila devem obedecer a estratégia\n",
        "FIFO."
      ],
      "metadata": {
        "id": "Wpeb1W_Rf0Gt"
      }
    },
    {
      "cell_type": "code",
      "source": [
        "#Escreva seu código aqui"
      ],
      "metadata": {
        "id": "SCxms-qRgyM1"
      },
      "execution_count": null,
      "outputs": []
    },
    {
      "cell_type": "markdown",
      "source": [
        "#Questão 3:\n",
        "Palíndromo é a frase ou palavra que mantém o mesmo sentido quando lida de trás pra frente. São\n",
        "exemplos de palíndromo: \"arara\", \"osso\", \"reler\", \"somos\", e “amor à roma”. Podemos também considerar\n",
        "palíndromos algumas combinações de palavras em que desprezamos pontuações, acentos e espaços em branco,\n",
        "como por exemplo: “ralo do dólar”, “até o poeta”, “após a sopa”, etc.\n",
        "Neste contexto:\n",
        "\n",
        "a) Use uma Pilha para projetar uma função que recebe uma string como entrada e verifica se ela é ou não um palíndromo.\n",
        "\n",
        "b) Use um Deque para projetar uma função que recebe uma string como entrada e verifica se ela é ou não um palíndromo."
      ],
      "metadata": {
        "id": "xf04t8Utf0OH"
      }
    },
    {
      "cell_type": "code",
      "source": [
        "#Escreva seu código aqui"
      ],
      "metadata": {
        "id": "gf0W0wmqgzcr"
      },
      "execution_count": null,
      "outputs": []
    },
    {
      "cell_type": "markdown",
      "source": [
        "#Questão 4\n",
        "Dado duas pilhas P1 e P2 que armazenam números inteiros, faça um programa que tenha as seguintes funções:\n",
        "1. Uma função para testar se as duas pilhas P1 e P2 são iguais. Caso não forem iguais diga qual pilha é maior\n",
        "2. Uma função que forneça o maior, o menor e a média aritmética dos elementos de uma pilha.\n",
        "3. Uma função para transferir elementos de P1 para P2 (copia).\n",
        "4. Uma função para retornar o número de elementos de uma pilha que possuem valor ímpar.\n",
        "5. Uma função para retornar o número de elementos da uma pilha que possuem valor par"
      ],
      "metadata": {
        "id": "4svL3Kc_g15P"
      }
    },
    {
      "cell_type": "code",
      "source": [
        "#Escreva seu código aqui"
      ],
      "metadata": {
        "id": "yx6RkNp8g2Bc"
      },
      "execution_count": null,
      "outputs": []
    },
    {
      "cell_type": "markdown",
      "source": [
        "#Questão 5.\n",
        "Crie um MÉTODO que retira todos os elementos ímpares da fila, mantendo a ordem original dos\n",
        "elementos pares da fila. Os elementos pares devem ser removidos temporariamente para uma pilha e depois\n",
        "retornados para a fila assim que os elementos ímpares forem removidos."
      ],
      "metadata": {
        "id": "LVeHiP3Ug2Pr"
      }
    },
    {
      "cell_type": "code",
      "source": [
        "#Escreva seu código aqui"
      ],
      "metadata": {
        "id": "o2ibURGAg3Sj"
      },
      "execution_count": null,
      "outputs": []
    },
    {
      "cell_type": "markdown",
      "source": [
        "#Questão 6\n",
        " Apresente o menu de opções abaixo:\n",
        " 1- Cadastrar aluno\n",
        "\n",
        " 2- Cadastrar nota\n",
        "\n",
        " 3- Calcular a média de um aluno\n",
        "\n",
        " 4- Listar os nomes dos alunos sem notas\n",
        "\n",
        " 5- Excluir aluno\n",
        "\n",
        " 7- Sair Observações:\n",
        "\n",
        " a) Cadastre um aluno (número e nome) de cada vez em uma pilha. Os números dos alunos devem ser gerados automaticamente, partindo do nº 1.\n",
        "\n",
        " b) Cadastre uma nota (número do aluno e nota) de cada vez em uma fila. Uma nota só pode ser cadastrada se pertencer a um aluno cadastrado na pilha de alunos. Mostrar mensagem caso o aluno não esteja cadastrado. Valide as notas para que sejam digitadas no intervalo entre 0 e 10.\n",
        "\n",
        " c) O usuário deve digitar o número de aluno para exibir seu nome e sua respectiva média. Caso não existir o aluno ou não houver notas cadastradas para ele emitir mensagem de aviso ao usuário.\n",
        "\n",
        " d) Um aluno só pode ser excluído se não possuir notas. O usuário não deve escolher o aluno a ser excluído, pois deve obedecer às regras de funcionamento da estrutura de dados tipo pilha.\n"
      ],
      "metadata": {
        "id": "0JUnUygRg2Wh"
      }
    },
    {
      "cell_type": "code",
      "source": [
        "#Escreva seu código aqui"
      ],
      "metadata": {
        "id": "6OZJodLhg2wK"
      },
      "execution_count": null,
      "outputs": []
    },
    {
      "cell_type": "markdown",
      "source": [
        "#Questão 7\n",
        " João está na fila de um banco esperando ser atendido. Porém, ele precisa sair em exatas uma hora para uma reunião importante. Sabe-se que um caixa leva 4 minutos para chamar a próxima pessoa da fila. João é a 22ª pessoa esperando ser atendida e o caixa chamou, no momento, a 8ª pessoa da fila. Com o auxílio da estrutura de dados fila, implemente um algoritmo que ajude João a descobrir se ele será atendido a tempo ou se ele deve voltar em um outro horário.\n",
        "\n",
        "\n",
        "\n",
        "\n",
        ""
      ],
      "metadata": {
        "id": "Z77VM7NVpS_q"
      }
    },
    {
      "cell_type": "code",
      "source": [
        "#Escreva seu código aqui"
      ],
      "metadata": {
        "id": "LFGQGhObpWqw"
      },
      "execution_count": null,
      "outputs": []
    },
    {
      "cell_type": "markdown",
      "source": [
        "#Questão 7.1\n",
        " Quando o caixa chamou a 14ª pessoa da fila, João percebeu que chegou uma gestante e um idoso ao banco. Estes, como têm prioridade, foram colocados para o início da fila. Sabendo que João pode ficar no banco por mais 36 minutos, o ajude, novamente, a saber se deve esperar ser atendido ou deve voltar em outro momento."
      ],
      "metadata": {
        "id": "MvXQaVH1pW-O"
      }
    },
    {
      "cell_type": "code",
      "source": [
        "#Escreva seu código aqui"
      ],
      "metadata": {
        "id": "O60Y0NndpXGW"
      },
      "execution_count": null,
      "outputs": []
    }
  ]
}