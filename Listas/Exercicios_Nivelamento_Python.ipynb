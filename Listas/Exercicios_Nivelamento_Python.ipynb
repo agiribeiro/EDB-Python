{
  "nbformat": 4,
  "nbformat_minor": 0,
  "metadata": {
    "colab": {
      "provenance": [],
      "authorship_tag": "ABX9TyNNRerlJQ9NkL2d0kQGj/hT",
      "include_colab_link": true
    },
    "kernelspec": {
      "name": "python3",
      "display_name": "Python 3"
    },
    "language_info": {
      "name": "python"
    }
  },
  "cells": [
    {
      "cell_type": "markdown",
      "metadata": {
        "id": "view-in-github",
        "colab_type": "text"
      },
      "source": [
        "<a href=\"https://colab.research.google.com/github/agiribeiro/EDB1/blob/master/Listas/Exercicios_Nivelamento_Python.ipynb\" target=\"_parent\"><img src=\"https://colab.research.google.com/assets/colab-badge.svg\" alt=\"Open In Colab\"/></a>"
      ]
    },
    {
      "cell_type": "markdown",
      "source": [
        "#Lista de Exercício de Revisão de PYTHON"
      ],
      "metadata": {
        "id": "gIlJsEsNwkMj"
      }
    },
    {
      "cell_type": "markdown",
      "source": [
        "##**Questão 1:**\n",
        "Analisando matematicamente as mortes do 7 reinos, o conselheiro Robert descobriu\n",
        "que elas acontecem exponencialmente da seguinte forma: As mortes acontecem\n",
        "exponencialmente de acordo com o número de famílias envolvidas nas batalhas e o\n",
        "tempo. De acordo com o diagrama abaixo. Portanto, escreva um programa no qual a\n",
        "entrada **n** representa o número de família e o resultado seja a seguinte tabela:\n",
        "\n",
        "1 (1 família, nenhuma morte)\n",
        "\n",
        "2 4 (2 familias, 4 mortes no primeiro ano)\n",
        "\n",
        "3 6 9 (3 familias, 6 mortes no primeiro ano, 9 mortes no segundo ano)\n",
        "\n",
        "4 8 12 16\n",
        "\n",
        "n...\n",
        "\n",
        "obs: o programa deve imprimir somente a tabela, sem os comentários"
      ],
      "metadata": {
        "id": "GW8bo_24wqFD"
      }
    },
    {
      "cell_type": "code",
      "source": [
        "#digite seu código aqui"
      ],
      "metadata": {
        "id": "cSmEn4-gwj4O"
      },
      "execution_count": null,
      "outputs": []
    },
    {
      "cell_type": "markdown",
      "source": [
        "##**Questão 2:**\n",
        "Um número é dito perfeito se é igual à soma de todos os seus divisores próprios (todos\n",
        "os divisores menos ele). Por exemplo, como os divisores próprios de 6 são 1, 2, 3 e e 1\n",
        "+ 2 + 3 = 6, 6 é perfeito.\n",
        "A matemática ainda não sabe se a quantidade de números\n",
        "perfeitos é ou não finita e, por isso, há programas de computador que buscam encontrar\n",
        "números perfeitos grandes. Escreva um programa PYTHON utilizando sub-rotinas\n",
        "(funções), que leia dois valores a e b e encontre os números perfeitos compreendidos\n",
        "dentro desse intervalo.\n",
        "\n",
        "Entrada: 0 e 30\n",
        "\n",
        "Saída esperada: 6 , 28"
      ],
      "metadata": {
        "id": "GZgSpJyzwudv"
      }
    },
    {
      "cell_type": "code",
      "source": [
        "#digite seu código aqui"
      ],
      "metadata": {
        "id": "cm95wA0Lyvrw"
      },
      "execution_count": null,
      "outputs": []
    },
    {
      "cell_type": "markdown",
      "metadata": {
        "id": "RVvyffmHwMwT"
      },
      "source": [
        "##Questão 3:\n",
        "\n",
        "Desenvolva um jogo da forca. O programa terá uma lista de palavras lidas de uma lista e escolherá uma palavra aleatoriamente. O jogador vai tentar descobrir essa palavra, mas só poderá errar 6 vezes antes de ser enforcado.\n",
        "\n",
        "Digite uma letra: A\n",
        "-> Você errou pela 1ª vez. Tente de novo!\n",
        "\n",
        "Digite uma letra: O\n",
        "A palavra é: _ _ _ _ O\n",
        "\n",
        "Digite uma letra: E\n",
        "A palavra é: _ E _ _ O\n",
        "\n",
        "Digite uma letra: S\n",
        "-> Você errou pela 2ª vez. Tente de novo!\n",
        "\n",
        "Quando errar pela 6ª vez imprimir: Enforcado e exibir a palavra correta"
      ]
    },
    {
      "cell_type": "code",
      "metadata": {
        "id": "Lc1GgcVoIFAe"
      },
      "source": [
        "#digite seu código aqui"
      ],
      "execution_count": null,
      "outputs": []
    },
    {
      "cell_type": "markdown",
      "metadata": {
        "id": "YPgQrI_ZwUEL"
      },
      "source": [
        "##Questão 4:\n",
        "\n",
        "Desenvolva um sistema de banco em python. Você deve exibir 6 menus:\n",
        "\n",
        "1. Criar nova conta. Uma nova conta deve conter ID, NOME e SALDO\n",
        "2. Adicionar dinheiro a conta. Adiciona uma quantia (dita pelo usuário) a conta de um ID especifico, mostra quando ficou o saldo final.\n",
        "3. Remover dinheiro da conta. Remove uma quantia (dita pelo usuário) a conta de um ID especifico, mostra quanto ficou o saldo final. Emitir um alerta caso o saldo tenha ficado negativo.\n",
        "4. Mostrar saldo de um nome dado\n",
        "5. Apagar uma conta (apaga todos os dados de um determinado ID)\n",
        "6. Apagar todas as contas\n",
        "\n",
        "ps: lembre-se de tratar exceções, caso o menu selecionado,  ID ou nome sugerido não exista imprimir uma alerta avisando que não existe.\n",
        "\n"
      ]
    },
    {
      "cell_type": "code",
      "metadata": {
        "id": "uRlD1-25Jkcn"
      },
      "source": [
        "#digite seu código aqui"
      ],
      "execution_count": null,
      "outputs": []
    }
  ]
}